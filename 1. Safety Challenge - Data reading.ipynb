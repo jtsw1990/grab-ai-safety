{
 "cells": [
  {
   "cell_type": "markdown",
   "metadata": {},
   "source": [
    "## Import data from csv\n",
    "\n",
    "- Currently using downloaded source data from grab website\n",
    "- To create a function that reads in zip before submission\n",
    "- Link to zip download here: \"https://s3-ap-southeast-1.amazonaws.com/grab-aiforsea-dataset/safety.zip\" "
   ]
  },
  {
   "cell_type": "code",
   "execution_count": 1,
   "metadata": {
    "ExecuteTime": {
     "end_time": "2019-06-11T02:44:30.903745Z",
     "start_time": "2019-06-11T02:44:30.481275Z"
    }
   },
   "outputs": [],
   "source": [
    "import pandas as pd\n",
    "import numpy as np\n",
    "import pickle"
   ]
  },
  {
   "cell_type": "code",
   "execution_count": 2,
   "metadata": {
    "ExecuteTime": {
     "end_time": "2019-06-11T02:45:13.152801Z",
     "start_time": "2019-06-11T02:44:30.923738Z"
    }
   },
   "outputs": [],
   "source": [
    "df0 = pd.read_csv(\"../grab-ai-safety-data/features/part-00000-e6120af0-10c2-4248-97c4-81baf4304e5c-c000.csv\")\n",
    "df1 = pd.read_csv(\"../grab-ai-safety-data/features/part-00001-e6120af0-10c2-4248-97c4-81baf4304e5c-c000.csv\")\n",
    "df2 = pd.read_csv(\"../grab-ai-safety-data/features/part-00002-e6120af0-10c2-4248-97c4-81baf4304e5c-c000.csv\")\n",
    "df3 = pd.read_csv(\"../grab-ai-safety-data/features/part-00003-e6120af0-10c2-4248-97c4-81baf4304e5c-c000.csv\")\n",
    "df4 = pd.read_csv(\"../grab-ai-safety-data/features/part-00004-e6120af0-10c2-4248-97c4-81baf4304e5c-c000.csv\")\n",
    "df5 = pd.read_csv(\"../grab-ai-safety-data/features/part-00005-e6120af0-10c2-4248-97c4-81baf4304e5c-c000.csv\")\n",
    "df6 = pd.read_csv(\"../grab-ai-safety-data/features/part-00006-e6120af0-10c2-4248-97c4-81baf4304e5c-c000.csv\")\n",
    "df7 = pd.read_csv(\"../grab-ai-safety-data/features/part-00007-e6120af0-10c2-4248-97c4-81baf4304e5c-c000.csv\")\n",
    "df8 = pd.read_csv(\"../grab-ai-safety-data/features/part-00008-e6120af0-10c2-4248-97c4-81baf4304e5c-c000.csv\")\n",
    "df9 = pd.read_csv(\"../grab-ai-safety-data/features/part-00009-e6120af0-10c2-4248-97c4-81baf4304e5c-c000.csv\")\n",
    "response = pd.read_csv(\"../grab-ai-safety-data/labels/part-00000-e9445087-aa0a-433b-a7f6-7f4c19d78ad6-c000.csv\")"
   ]
  },
  {
   "cell_type": "code",
   "execution_count": 3,
   "metadata": {
    "ExecuteTime": {
     "end_time": "2019-06-11T00:14:12.808824Z",
     "start_time": "2019-06-11T00:14:12.161823Z"
    }
   },
   "outputs": [],
   "source": [
    "df_features = pd.concat([df1, df2, df3, df4, df5, df6, df7, df8, df9], axis=0)\n",
    "response = response.drop_duplicates(subset=\"bookingID\", keep=False)"
   ]
  },
  {
   "cell_type": "code",
   "execution_count": 4,
   "metadata": {
    "ExecuteTime": {
     "end_time": "2019-06-11T00:14:37.700383Z",
     "start_time": "2019-06-11T00:14:12.812824Z"
    }
   },
   "outputs": [],
   "source": [
    "df = pd.merge(\n",
    "    df_features,\n",
    "    response,\n",
    "    how=\"left\",\n",
    "    on=\"bookingID\"\n",
    ").sort_values(\n",
    "    [\"bookingID\", \"second\"],\n",
    "    ascending=True\n",
    ")\n",
    "\n",
    "df.columns = [x.lower() for x in df.columns]"
   ]
  },
  {
   "cell_type": "code",
   "execution_count": 5,
   "metadata": {
    "ExecuteTime": {
     "end_time": "2019-06-11T00:14:41.007125Z",
     "start_time": "2019-06-11T00:14:37.705323Z"
    },
    "scrolled": true
   },
   "outputs": [],
   "source": [
    "with open('../grab-ai-safety-data/df_full.pickle', 'wb') as f:\n",
    "    pickle.dump(df, f)"
   ]
  }
 ],
 "metadata": {
  "kernelspec": {
   "display_name": "Python 3",
   "language": "python",
   "name": "python3"
  },
  "language_info": {
   "codemirror_mode": {
    "name": "ipython",
    "version": 3
   },
   "file_extension": ".py",
   "mimetype": "text/x-python",
   "name": "python",
   "nbconvert_exporter": "python",
   "pygments_lexer": "ipython3",
   "version": "3.6.5"
  },
  "varInspector": {
   "cols": {
    "lenName": 16,
    "lenType": 16,
    "lenVar": 40
   },
   "kernels_config": {
    "python": {
     "delete_cmd_postfix": "",
     "delete_cmd_prefix": "del ",
     "library": "var_list.py",
     "varRefreshCmd": "print(var_dic_list())"
    },
    "r": {
     "delete_cmd_postfix": ") ",
     "delete_cmd_prefix": "rm(",
     "library": "var_list.r",
     "varRefreshCmd": "cat(var_dic_list()) "
    }
   },
   "types_to_exclude": [
    "module",
    "function",
    "builtin_function_or_method",
    "instance",
    "_Feature"
   ],
   "window_display": false
  }
 },
 "nbformat": 4,
 "nbformat_minor": 2
}
