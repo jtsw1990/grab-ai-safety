{
 "cells": [
  {
   "cell_type": "code",
   "execution_count": null,
   "metadata": {
    "ExecuteTime": {
     "end_time": "2019-06-09T05:38:20.129378Z",
     "start_time": "2019-06-09T05:38:19.427825Z"
    }
   },
   "outputs": [],
   "source": [
    "import pandas as pd\n",
    "import numpy as np\n",
    "import pickle"
   ]
  },
  {
   "cell_type": "code",
   "execution_count": null,
   "metadata": {
    "ExecuteTime": {
     "end_time": "2019-06-09T05:38:48.236447Z",
     "start_time": "2019-06-09T05:38:20.131847Z"
    }
   },
   "outputs": [],
   "source": [
    "df0 = pd.read_csv(\"../grab-ai-safety-data/features/part-00000-e6120af0-10c2-4248-97c4-81baf4304e5c-c000.csv\")\n",
    "df1 = pd.read_csv(\"../grab-ai-safety-data/features/part-00001-e6120af0-10c2-4248-97c4-81baf4304e5c-c000.csv\")\n",
    "df2 = pd.read_csv(\"../grab-ai-safety-data/features/part-00002-e6120af0-10c2-4248-97c4-81baf4304e5c-c000.csv\")\n",
    "df3 = pd.read_csv(\"../grab-ai-safety-data/features/part-00003-e6120af0-10c2-4248-97c4-81baf4304e5c-c000.csv\")\n",
    "df4 = pd.read_csv(\"../grab-ai-safety-data/features/part-00004-e6120af0-10c2-4248-97c4-81baf4304e5c-c000.csv\")\n",
    "df5 = pd.read_csv(\"../grab-ai-safety-data/features/part-00005-e6120af0-10c2-4248-97c4-81baf4304e5c-c000.csv\")\n",
    "df6 = pd.read_csv(\"../grab-ai-safety-data/features/part-00006-e6120af0-10c2-4248-97c4-81baf4304e5c-c000.csv\")\n",
    "df7 = pd.read_csv(\"../grab-ai-safety-data/features/part-00007-e6120af0-10c2-4248-97c4-81baf4304e5c-c000.csv\")\n",
    "df8 = pd.read_csv(\"../grab-ai-safety-data/features/part-00008-e6120af0-10c2-4248-97c4-81baf4304e5c-c000.csv\")\n",
    "df9 = pd.read_csv(\"../grab-ai-safety-data/features/part-00009-e6120af0-10c2-4248-97c4-81baf4304e5c-c000.csv\")\n",
    "response = pd.read_csv(\"../grab-ai-safety-data/labels/part-00000-e9445087-aa0a-433b-a7f6-7f4c19d78ad6-c000.csv\")"
   ]
  },
  {
   "cell_type": "code",
   "execution_count": null,
   "metadata": {
    "ExecuteTime": {
     "end_time": "2019-06-09T05:38:49.106656Z",
     "start_time": "2019-06-09T05:38:48.238411Z"
    }
   },
   "outputs": [],
   "source": [
    "df_features = pd.concat([df1, df2, df3, df4, df5, df6, df7, df8, df9], axis=0)"
   ]
  },
  {
   "cell_type": "code",
   "execution_count": null,
   "metadata": {
    "ExecuteTime": {
     "end_time": "2019-06-09T05:38:54.440001Z",
     "start_time": "2019-06-09T05:38:49.108849Z"
    }
   },
   "outputs": [],
   "source": [
    "df = pd.merge(\n",
    "    df_features,\n",
    "    response,\n",
    "    how=\"left\",\n",
    "    on=\"bookingID\"\n",
    ")"
   ]
  },
  {
   "cell_type": "code",
   "execution_count": null,
   "metadata": {
    "ExecuteTime": {
     "end_time": "2019-06-09T05:38:54.444455Z",
     "start_time": "2019-06-09T05:38:54.441893Z"
    }
   },
   "outputs": [],
   "source": [
    "# FIrst note that second itself as a feature is totally garbage. But can be used to calculate distance of a trip?\n",
    "# Do we care about the x y z in acceleration and gyro? or just take the max?\n",
    "# Does accuracy and bearing even matter?"
   ]
  },
  {
   "cell_type": "markdown",
   "metadata": {},
   "source": [
    "## Feature Extraction"
   ]
  },
  {
   "cell_type": "code",
   "execution_count": null,
   "metadata": {
    "ExecuteTime": {
     "end_time": "2019-06-09T05:38:54.450115Z",
     "start_time": "2019-06-09T05:38:54.446901Z"
    }
   },
   "outputs": [],
   "source": [
    "def weighted_sum(x, y):\n",
    "    return (x * y).sum()"
   ]
  },
  {
   "cell_type": "code",
   "execution_count": null,
   "metadata": {
    "ExecuteTime": {
     "end_time": "2019-06-09T05:38:59.505603Z",
     "start_time": "2019-06-09T05:38:54.452449Z"
    }
   },
   "outputs": [],
   "source": [
    "df[\"max_acceleration\"] = df[[\"acceleration_x\", \"acceleration_y\", \"acceleration_z\"]].max(axis=1)\n",
    "df[\"max_gyro\"] = df[[\"gyro_x\", \"gyro_y\", \"gyro_z\"]].max(axis=1)\n",
    "df[\"Speed_abs\"] = np.abs(df[\"Speed\"])"
   ]
  },
  {
   "cell_type": "code",
   "execution_count": null,
   "metadata": {
    "ExecuteTime": {
     "end_time": "2019-06-09T05:38:59.536528Z",
     "start_time": "2019-06-09T05:38:59.507619Z"
    }
   },
   "outputs": [],
   "source": [
    "df.head()"
   ]
  },
  {
   "cell_type": "code",
   "execution_count": null,
   "metadata": {
    "ExecuteTime": {
     "end_time": "2019-06-09T05:39:34.261167Z",
     "start_time": "2019-06-09T05:38:59.538377Z"
    }
   },
   "outputs": [],
   "source": [
    "df_sorted = df.sort_values([\"bookingID\", \"second\"])\n",
    "df_sorted[\"time_diffs\"] = df_sorted[\"second\"].diff()\n",
    "df_sorted[\"Bearing_diffs\"] = df_sorted[\"Bearing\"].diff()\n",
    "mask = df_sorted[\"bookingID\"] != df_sorted[\"bookingID\"].shift(1)\n",
    "df_sorted[\"time_diffs\"][mask] = 0\n",
    "df_sorted[\"Bearing_diffs\"][mask] = 0\n",
    "df_sorted[\"distance_covered\"] = df_sorted[\"Speed_abs\"] * df_sorted[\"time_diffs\"]\n",
    "df_sorted[\"Bearing_diffs\"] = np.abs(df_sorted[\"Bearing_diffs\"])"
   ]
  },
  {
   "cell_type": "code",
   "execution_count": null,
   "metadata": {
    "ExecuteTime": {
     "end_time": "2019-06-09T05:39:34.333878Z",
     "start_time": "2019-06-09T05:39:34.263561Z"
    }
   },
   "outputs": [],
   "source": [
    "df_sorted.head(100)"
   ]
  },
  {
   "cell_type": "code",
   "execution_count": null,
   "metadata": {
    "ExecuteTime": {
     "end_time": "2019-06-09T05:46:30.091265Z",
     "start_time": "2019-06-09T05:46:29.881981Z"
    }
   },
   "outputs": [],
   "source": [
    "df_sorted[\"std_speed\"] = df_sorted[\"Speed\"]\n",
    "df_sorted[\"std_acc\"] = df_sorted[\"max_acceleration\"]\n",
    "df_sorted[\"std_gyro\"] = df_sorted[\"max_gyro\"]\n",
    "df_sorted[\"std_bearing\"] = df_sorted[\"Bearing_diffs\"]"
   ]
  },
  {
   "cell_type": "code",
   "execution_count": null,
   "metadata": {
    "ExecuteTime": {
     "end_time": "2019-06-09T05:54:31.220928Z",
     "start_time": "2019-06-09T05:54:30.275338Z"
    }
   },
   "outputs": [],
   "source": [
    "df_grouped = df_sorted.groupby(\"bookingID\").agg({\n",
    "    \"Speed\": \"mean\",\n",
    "    \"max_acceleration\": \"max\",\n",
    "    \"max_gyro\": \"max\",\n",
    "    #\"Bearing_diffs\": \"mean\",\n",
    "    \"distance_covered\": \"sum\",\n",
    "    \"std_speed\": \"std\",\n",
    "    \"std_acc\": \"std\",\n",
    "   # \"std_gyro\": \"std\",\n",
    "    \"std_bearing\": \"std\",\n",
    "    \"label\": \"max\"\n",
    "})"
   ]
  },
  {
   "cell_type": "code",
   "execution_count": null,
   "metadata": {
    "ExecuteTime": {
     "end_time": "2019-06-09T05:57:42.116452Z",
     "start_time": "2019-06-09T05:57:42.110981Z"
    }
   },
   "outputs": [],
   "source": [
    "with open('outputs/df_cleaned.pickle', 'wb') as f:\n",
    "    pickle.dump(df_grouped, f)"
   ]
  }
 ],
 "metadata": {
  "kernelspec": {
   "display_name": "Python 3",
   "language": "python",
   "name": "python3"
  },
  "language_info": {
   "codemirror_mode": {
    "name": "ipython",
    "version": 3
   },
   "file_extension": ".py",
   "mimetype": "text/x-python",
   "name": "python",
   "nbconvert_exporter": "python",
   "pygments_lexer": "ipython3",
   "version": "3.6.8"
  },
  "varInspector": {
   "cols": {
    "lenName": 16,
    "lenType": 16,
    "lenVar": 40
   },
   "kernels_config": {
    "python": {
     "delete_cmd_postfix": "",
     "delete_cmd_prefix": "del ",
     "library": "var_list.py",
     "varRefreshCmd": "print(var_dic_list())"
    },
    "r": {
     "delete_cmd_postfix": ") ",
     "delete_cmd_prefix": "rm(",
     "library": "var_list.r",
     "varRefreshCmd": "cat(var_dic_list()) "
    }
   },
   "types_to_exclude": [
    "module",
    "function",
    "builtin_function_or_method",
    "instance",
    "_Feature"
   ],
   "window_display": false
  }
 },
 "nbformat": 4,
 "nbformat_minor": 2
}
