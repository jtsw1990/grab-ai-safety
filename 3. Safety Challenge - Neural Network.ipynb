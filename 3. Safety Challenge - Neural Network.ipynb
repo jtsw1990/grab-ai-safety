{
 "cells": [
  {
   "cell_type": "code",
   "execution_count": 1,
   "metadata": {
    "ExecuteTime": {
     "end_time": "2019-06-09T09:47:27.856942Z",
     "start_time": "2019-06-09T09:47:25.670176Z"
    }
   },
   "outputs": [
    {
     "name": "stderr",
     "output_type": "stream",
     "text": [
      "Using TensorFlow backend.\n"
     ]
    }
   ],
   "source": [
    "import keras\n",
    "from keras import Sequential\n",
    "from keras.layers import Dense, Dropout\n",
    "import pandas as pd\n",
    "import numpy as np\n",
    "import matplotlib.pyplot as plt\n",
    "import seaborn as sns\n",
    "from sklearn.model_selection import train_test_split, StratifiedKFold, GridSearchCV, cross_val_score\n",
    "from sklearn.preprocessing import LabelEncoder, StandardScaler\n",
    "from sklearn.metrics import confusion_matrix, roc_auc_score, roc_curve, accuracy_score\n",
    "from keras.callbacks import EarlyStopping"
   ]
  },
  {
   "cell_type": "code",
   "execution_count": 2,
   "metadata": {
    "ExecuteTime": {
     "end_time": "2019-06-09T09:47:27.870816Z",
     "start_time": "2019-06-09T09:47:27.859065Z"
    }
   },
   "outputs": [],
   "source": [
    "df = pd.read_pickle(\"outputs/df_cleaned.pickle\")"
   ]
  },
  {
   "cell_type": "code",
   "execution_count": 3,
   "metadata": {
    "ExecuteTime": {
     "end_time": "2019-06-09T09:47:27.899344Z",
     "start_time": "2019-06-09T09:47:27.873005Z"
    }
   },
   "outputs": [],
   "source": [
    "features = df.iloc[:, :-1]\n",
    "response = df.iloc[:, -1]\n",
    "le = LabelEncoder().fit(response)\n",
    "features_scaled = StandardScaler().fit_transform(features)\n",
    "response_tf = le.transform(response)"
   ]
  },
  {
   "cell_type": "code",
   "execution_count": 4,
   "metadata": {
    "ExecuteTime": {
     "end_time": "2019-06-09T09:47:27.910707Z",
     "start_time": "2019-06-09T09:47:27.901224Z"
    }
   },
   "outputs": [],
   "source": [
    "X_train, x_test, y_train, y_test = train_test_split(\n",
    "    features_scaled,\n",
    "    response_tf,\n",
    "    test_size=0.2,\n",
    "    random_state=42\n",
    ")"
   ]
  },
  {
   "cell_type": "code",
   "execution_count": 5,
   "metadata": {
    "ExecuteTime": {
     "end_time": "2019-06-09T09:47:27.925787Z",
     "start_time": "2019-06-09T09:47:27.912324Z"
    }
   },
   "outputs": [],
   "source": [
    "model = Sequential()"
   ]
  },
  {
   "cell_type": "code",
   "execution_count": 6,
   "metadata": {
    "ExecuteTime": {
     "end_time": "2019-06-09T09:47:27.930627Z",
     "start_time": "2019-06-09T09:47:27.927521Z"
    }
   },
   "outputs": [],
   "source": [
    "n_cols = X_train.shape[1]"
   ]
  },
  {
   "cell_type": "code",
   "execution_count": 7,
   "metadata": {
    "ExecuteTime": {
     "end_time": "2019-06-09T09:47:28.046896Z",
     "start_time": "2019-06-09T09:47:27.934171Z"
    }
   },
   "outputs": [
    {
     "name": "stdout",
     "output_type": "stream",
     "text": [
      "WARNING:tensorflow:From /anaconda3/lib/python3.6/site-packages/tensorflow/python/framework/op_def_library.py:263: colocate_with (from tensorflow.python.framework.ops) is deprecated and will be removed in a future version.\n",
      "Instructions for updating:\n",
      "Colocations handled automatically by placer.\n",
      "WARNING:tensorflow:From /anaconda3/lib/python3.6/site-packages/keras/backend/tensorflow_backend.py:3445: calling dropout (from tensorflow.python.ops.nn_ops) with keep_prob is deprecated and will be removed in a future version.\n",
      "Instructions for updating:\n",
      "Please use `rate` instead of `keep_prob`. Rate should be set to `rate = 1 - keep_prob`.\n"
     ]
    }
   ],
   "source": [
    "model.add(Dense(125, activation=\"relu\", input_shape=(n_cols,)))\n",
    "model.add(Dropout(0.5))\n",
    "model.add(Dense(125, activation=\"relu\"))\n",
    "model.add(Dropout(0.5))\n",
    "model.add(Dense(125, activation=\"relu\"))\n",
    "model.add(Dropout(0.5))\n",
    "model.add(Dense(1, activation=\"sigmoid\"))"
   ]
  },
  {
   "cell_type": "code",
   "execution_count": 8,
   "metadata": {
    "ExecuteTime": {
     "end_time": "2019-06-09T09:47:28.104793Z",
     "start_time": "2019-06-09T09:47:28.048839Z"
    }
   },
   "outputs": [],
   "source": [
    "adam = keras.optimizers.Adam(lr=0.01, beta_1=0.9, beta_2=0.999, epsilon=1e-8)\n",
    "early_stopping_monitor = EarlyStopping(patience=10)\n",
    "model.compile(\n",
    "    optimizer =adam,\n",
    "    loss='binary_crossentropy', \n",
    "    metrics =['accuracy'],\n",
    ")"
   ]
  },
  {
   "cell_type": "code",
   "execution_count": 9,
   "metadata": {
    "ExecuteTime": {
     "end_time": "2019-06-09T09:47:57.982244Z",
     "start_time": "2019-06-09T09:47:28.108175Z"
    },
    "scrolled": true
   },
   "outputs": [
    {
     "name": "stdout",
     "output_type": "stream",
     "text": [
      "WARNING:tensorflow:From /anaconda3/lib/python3.6/site-packages/tensorflow/python/ops/math_ops.py:3066: to_int32 (from tensorflow.python.ops.math_ops) is deprecated and will be removed in a future version.\n",
      "Instructions for updating:\n",
      "Use tf.cast instead.\n",
      "Train on 12800 samples, validate on 3200 samples\n",
      "Epoch 1/200\n",
      "12800/12800 [==============================] - 1s 46us/step - loss: 0.5990 - acc: 0.7392 - val_loss: 0.5589 - val_acc: 0.7547\n",
      "Epoch 2/200\n",
      "12800/12800 [==============================] - 0s 12us/step - loss: 0.5441 - acc: 0.7612 - val_loss: 0.5489 - val_acc: 0.7534\n",
      "Epoch 3/200\n",
      "12800/12800 [==============================] - 0s 12us/step - loss: 0.5391 - acc: 0.7639 - val_loss: 0.5407 - val_acc: 0.7544\n",
      "Epoch 4/200\n",
      "12800/12800 [==============================] - 0s 12us/step - loss: 0.5339 - acc: 0.7645 - val_loss: 0.5414 - val_acc: 0.7547\n",
      "Epoch 5/200\n",
      "12800/12800 [==============================] - 0s 12us/step - loss: 0.5325 - acc: 0.7641 - val_loss: 0.5371 - val_acc: 0.7547\n",
      "Epoch 6/200\n",
      "12800/12800 [==============================] - 0s 12us/step - loss: 0.5312 - acc: 0.7641 - val_loss: 0.5482 - val_acc: 0.7541\n",
      "Epoch 7/200\n",
      "12800/12800 [==============================] - 0s 11us/step - loss: 0.5294 - acc: 0.7649 - val_loss: 0.5388 - val_acc: 0.7547\n",
      "Epoch 8/200\n",
      "12800/12800 [==============================] - 0s 11us/step - loss: 0.5275 - acc: 0.7650 - val_loss: 0.5378 - val_acc: 0.7544\n",
      "Epoch 9/200\n",
      "12800/12800 [==============================] - 0s 11us/step - loss: 0.5277 - acc: 0.7647 - val_loss: 0.5363 - val_acc: 0.7531\n",
      "Epoch 10/200\n",
      "12800/12800 [==============================] - 0s 12us/step - loss: 0.5282 - acc: 0.7648 - val_loss: 0.5363 - val_acc: 0.7544\n",
      "Epoch 11/200\n",
      "12800/12800 [==============================] - 0s 11us/step - loss: 0.5270 - acc: 0.7638 - val_loss: 0.5332 - val_acc: 0.7531\n",
      "Epoch 12/200\n",
      "12800/12800 [==============================] - 0s 11us/step - loss: 0.5268 - acc: 0.7657 - val_loss: 0.5323 - val_acc: 0.7541\n",
      "Epoch 13/200\n",
      "12800/12800 [==============================] - 0s 11us/step - loss: 0.5224 - acc: 0.7666 - val_loss: 0.5342 - val_acc: 0.7544\n",
      "Epoch 14/200\n",
      "12800/12800 [==============================] - 0s 11us/step - loss: 0.5270 - acc: 0.7645 - val_loss: 0.5337 - val_acc: 0.7553\n",
      "Epoch 15/200\n",
      "12800/12800 [==============================] - 0s 11us/step - loss: 0.5272 - acc: 0.7645 - val_loss: 0.5343 - val_acc: 0.7541\n",
      "Epoch 16/200\n",
      "12800/12800 [==============================] - 0s 11us/step - loss: 0.5248 - acc: 0.7655 - val_loss: 0.5369 - val_acc: 0.7534\n",
      "Epoch 17/200\n",
      "12800/12800 [==============================] - 0s 11us/step - loss: 0.5239 - acc: 0.7666 - val_loss: 0.5331 - val_acc: 0.7550\n",
      "Epoch 18/200\n",
      "12800/12800 [==============================] - 0s 11us/step - loss: 0.5264 - acc: 0.7655 - val_loss: 0.5395 - val_acc: 0.7553\n",
      "Epoch 19/200\n",
      "12800/12800 [==============================] - 0s 12us/step - loss: 0.5218 - acc: 0.7662 - val_loss: 0.5317 - val_acc: 0.7550\n",
      "Epoch 20/200\n",
      "12800/12800 [==============================] - 0s 12us/step - loss: 0.5255 - acc: 0.7650 - val_loss: 0.5400 - val_acc: 0.7531\n",
      "Epoch 21/200\n",
      "12800/12800 [==============================] - 0s 11us/step - loss: 0.5262 - acc: 0.7653 - val_loss: 0.5339 - val_acc: 0.7550\n",
      "Epoch 22/200\n",
      "12800/12800 [==============================] - 0s 11us/step - loss: 0.5213 - acc: 0.7658 - val_loss: 0.5353 - val_acc: 0.7550\n",
      "Epoch 23/200\n",
      "12800/12800 [==============================] - 0s 12us/step - loss: 0.5204 - acc: 0.7665 - val_loss: 0.5338 - val_acc: 0.7547\n",
      "Epoch 24/200\n",
      "12800/12800 [==============================] - 0s 12us/step - loss: 0.5227 - acc: 0.7660 - val_loss: 0.5343 - val_acc: 0.7553\n",
      "Epoch 25/200\n",
      "12800/12800 [==============================] - 0s 11us/step - loss: 0.5245 - acc: 0.7652 - val_loss: 0.5345 - val_acc: 0.7550\n",
      "Epoch 26/200\n",
      "12800/12800 [==============================] - 0s 12us/step - loss: 0.5213 - acc: 0.7670 - val_loss: 0.5333 - val_acc: 0.7553\n",
      "Epoch 27/200\n",
      "12800/12800 [==============================] - 0s 12us/step - loss: 0.5244 - acc: 0.7665 - val_loss: 0.5388 - val_acc: 0.7553\n",
      "Epoch 28/200\n",
      "12800/12800 [==============================] - 0s 11us/step - loss: 0.5227 - acc: 0.7659 - val_loss: 0.5328 - val_acc: 0.7553\n",
      "Epoch 29/200\n",
      "12800/12800 [==============================] - 0s 11us/step - loss: 0.5244 - acc: 0.7661 - val_loss: 0.5328 - val_acc: 0.7562\n",
      "Epoch 30/200\n",
      "12800/12800 [==============================] - 0s 11us/step - loss: 0.5247 - acc: 0.7666 - val_loss: 0.5362 - val_acc: 0.7550\n",
      "Epoch 31/200\n",
      "12800/12800 [==============================] - 0s 11us/step - loss: 0.5248 - acc: 0.7650 - val_loss: 0.5333 - val_acc: 0.7559\n",
      "Epoch 32/200\n",
      "12800/12800 [==============================] - 0s 11us/step - loss: 0.5220 - acc: 0.7653 - val_loss: 0.5348 - val_acc: 0.7559\n",
      "Epoch 33/200\n",
      "12800/12800 [==============================] - 0s 11us/step - loss: 0.5249 - acc: 0.7646 - val_loss: 0.5319 - val_acc: 0.7559\n",
      "Epoch 34/200\n",
      "12800/12800 [==============================] - 0s 11us/step - loss: 0.5202 - acc: 0.7660 - val_loss: 0.5364 - val_acc: 0.7556\n",
      "Epoch 35/200\n",
      "12800/12800 [==============================] - 0s 11us/step - loss: 0.5214 - acc: 0.7660 - val_loss: 0.5337 - val_acc: 0.7553\n",
      "Epoch 36/200\n",
      "12800/12800 [==============================] - 0s 11us/step - loss: 0.5193 - acc: 0.7668 - val_loss: 0.5339 - val_acc: 0.7559\n",
      "Epoch 37/200\n",
      "12800/12800 [==============================] - 0s 11us/step - loss: 0.5204 - acc: 0.7663 - val_loss: 0.5353 - val_acc: 0.7550\n",
      "Epoch 38/200\n",
      "12800/12800 [==============================] - 0s 11us/step - loss: 0.5199 - acc: 0.7668 - val_loss: 0.5312 - val_acc: 0.7550\n",
      "Epoch 39/200\n",
      "12800/12800 [==============================] - 0s 11us/step - loss: 0.5226 - acc: 0.7661 - val_loss: 0.5353 - val_acc: 0.7556\n",
      "Epoch 40/200\n",
      "12800/12800 [==============================] - 0s 12us/step - loss: 0.5215 - acc: 0.7671 - val_loss: 0.5314 - val_acc: 0.7563\n",
      "Epoch 41/200\n",
      "12800/12800 [==============================] - 0s 11us/step - loss: 0.5215 - acc: 0.7669 - val_loss: 0.5352 - val_acc: 0.7559\n",
      "Epoch 42/200\n",
      "12800/12800 [==============================] - 0s 11us/step - loss: 0.5193 - acc: 0.7651 - val_loss: 0.5317 - val_acc: 0.7559\n",
      "Epoch 43/200\n",
      "12800/12800 [==============================] - 0s 11us/step - loss: 0.5206 - acc: 0.7666 - val_loss: 0.5433 - val_acc: 0.7556\n",
      "Epoch 44/200\n",
      "12800/12800 [==============================] - 0s 11us/step - loss: 0.5241 - acc: 0.7665 - val_loss: 0.5357 - val_acc: 0.7553\n",
      "Epoch 45/200\n",
      "12800/12800 [==============================] - 0s 11us/step - loss: 0.5235 - acc: 0.7668 - val_loss: 0.5349 - val_acc: 0.7534\n",
      "Epoch 46/200\n",
      "12800/12800 [==============================] - 0s 11us/step - loss: 0.5230 - acc: 0.7652 - val_loss: 0.5350 - val_acc: 0.7559\n",
      "Epoch 47/200\n",
      "12800/12800 [==============================] - 0s 12us/step - loss: 0.5217 - acc: 0.7659 - val_loss: 0.5324 - val_acc: 0.7556\n",
      "Epoch 48/200\n",
      "12800/12800 [==============================] - 0s 11us/step - loss: 0.5207 - acc: 0.7666 - val_loss: 0.5338 - val_acc: 0.7550\n",
      "Epoch 49/200\n",
      "12800/12800 [==============================] - 0s 11us/step - loss: 0.5210 - acc: 0.7664 - val_loss: 0.5351 - val_acc: 0.7566\n",
      "Epoch 50/200\n",
      "12800/12800 [==============================] - 0s 12us/step - loss: 0.5208 - acc: 0.7671 - val_loss: 0.5339 - val_acc: 0.7550\n",
      "Epoch 51/200\n",
      "12800/12800 [==============================] - 0s 12us/step - loss: 0.5223 - acc: 0.7666 - val_loss: 0.5328 - val_acc: 0.7553\n",
      "Epoch 52/200\n",
      "12800/12800 [==============================] - 0s 12us/step - loss: 0.5215 - acc: 0.7658 - val_loss: 0.5356 - val_acc: 0.7562\n",
      "Epoch 53/200\n",
      "12800/12800 [==============================] - 0s 12us/step - loss: 0.5217 - acc: 0.7670 - val_loss: 0.5351 - val_acc: 0.7556\n",
      "Epoch 54/200\n",
      "12800/12800 [==============================] - 0s 12us/step - loss: 0.5194 - acc: 0.7679 - val_loss: 0.5340 - val_acc: 0.7559\n",
      "Epoch 55/200\n",
      "12800/12800 [==============================] - 0s 11us/step - loss: 0.5225 - acc: 0.7661 - val_loss: 0.5335 - val_acc: 0.7550\n",
      "Epoch 56/200\n",
      "12800/12800 [==============================] - 0s 12us/step - loss: 0.5252 - acc: 0.7656 - val_loss: 0.5356 - val_acc: 0.7559\n",
      "Epoch 57/200\n",
      "12800/12800 [==============================] - 0s 12us/step - loss: 0.5235 - acc: 0.7655 - val_loss: 0.5399 - val_acc: 0.7550\n"
     ]
    },
    {
     "name": "stdout",
     "output_type": "stream",
     "text": [
      "Epoch 58/200\n",
      "12800/12800 [==============================] - 0s 11us/step - loss: 0.5214 - acc: 0.7673 - val_loss: 0.5340 - val_acc: 0.7559\n",
      "Epoch 59/200\n",
      "12800/12800 [==============================] - 0s 11us/step - loss: 0.5215 - acc: 0.7670 - val_loss: 0.5336 - val_acc: 0.7559\n",
      "Epoch 60/200\n",
      "12800/12800 [==============================] - 0s 12us/step - loss: 0.5198 - acc: 0.7680 - val_loss: 0.5396 - val_acc: 0.7566\n",
      "Epoch 61/200\n",
      "12800/12800 [==============================] - 0s 11us/step - loss: 0.5215 - acc: 0.7672 - val_loss: 0.5392 - val_acc: 0.7547\n",
      "Epoch 62/200\n",
      "12800/12800 [==============================] - 0s 11us/step - loss: 0.5205 - acc: 0.7668 - val_loss: 0.5367 - val_acc: 0.7547\n",
      "Epoch 63/200\n",
      "12800/12800 [==============================] - 0s 11us/step - loss: 0.5250 - acc: 0.7673 - val_loss: 0.5353 - val_acc: 0.7556\n",
      "Epoch 64/200\n",
      "12800/12800 [==============================] - 0s 11us/step - loss: 0.5205 - acc: 0.7669 - val_loss: 0.5323 - val_acc: 0.7553\n",
      "Epoch 65/200\n",
      "12800/12800 [==============================] - 0s 11us/step - loss: 0.5212 - acc: 0.7672 - val_loss: 0.5322 - val_acc: 0.7562\n",
      "Epoch 66/200\n",
      "12800/12800 [==============================] - 0s 11us/step - loss: 0.5157 - acc: 0.7671 - val_loss: 0.5351 - val_acc: 0.7559\n",
      "Epoch 67/200\n",
      "12800/12800 [==============================] - 0s 12us/step - loss: 0.5200 - acc: 0.7656 - val_loss: 0.5338 - val_acc: 0.7563\n",
      "Epoch 68/200\n",
      "12800/12800 [==============================] - 0s 11us/step - loss: 0.5169 - acc: 0.7666 - val_loss: 0.5373 - val_acc: 0.7563\n",
      "Epoch 69/200\n",
      "12800/12800 [==============================] - 0s 11us/step - loss: 0.5204 - acc: 0.7670 - val_loss: 0.5353 - val_acc: 0.7563\n",
      "Epoch 70/200\n",
      "12800/12800 [==============================] - 0s 11us/step - loss: 0.5221 - acc: 0.7655 - val_loss: 0.5315 - val_acc: 0.7553\n",
      "Epoch 71/200\n",
      "12800/12800 [==============================] - 0s 11us/step - loss: 0.5181 - acc: 0.7659 - val_loss: 0.5332 - val_acc: 0.7559\n",
      "Epoch 72/200\n",
      "12800/12800 [==============================] - 0s 11us/step - loss: 0.5183 - acc: 0.7665 - val_loss: 0.5341 - val_acc: 0.7556\n",
      "Epoch 73/200\n",
      "12800/12800 [==============================] - 0s 11us/step - loss: 0.5190 - acc: 0.7673 - val_loss: 0.5336 - val_acc: 0.7562\n",
      "Epoch 74/200\n",
      "12800/12800 [==============================] - 0s 11us/step - loss: 0.5200 - acc: 0.7656 - val_loss: 0.5351 - val_acc: 0.7553\n",
      "Epoch 75/200\n",
      "12800/12800 [==============================] - 0s 11us/step - loss: 0.5202 - acc: 0.7671 - val_loss: 0.5354 - val_acc: 0.7566\n",
      "Epoch 76/200\n",
      "12800/12800 [==============================] - 0s 11us/step - loss: 0.5220 - acc: 0.7675 - val_loss: 0.5358 - val_acc: 0.7559\n",
      "Epoch 77/200\n",
      "12800/12800 [==============================] - 0s 11us/step - loss: 0.5230 - acc: 0.7651 - val_loss: 0.5344 - val_acc: 0.7553\n",
      "Epoch 78/200\n",
      "12800/12800 [==============================] - 0s 11us/step - loss: 0.5202 - acc: 0.7655 - val_loss: 0.5358 - val_acc: 0.7556\n",
      "Epoch 79/200\n",
      "12800/12800 [==============================] - 0s 11us/step - loss: 0.5171 - acc: 0.7666 - val_loss: 0.5327 - val_acc: 0.7559\n",
      "Epoch 80/200\n",
      "12800/12800 [==============================] - 0s 11us/step - loss: 0.5165 - acc: 0.7667 - val_loss: 0.5339 - val_acc: 0.7553\n",
      "Epoch 81/200\n",
      "12800/12800 [==============================] - 0s 11us/step - loss: 0.5136 - acc: 0.7684 - val_loss: 0.5338 - val_acc: 0.7559\n",
      "Epoch 82/200\n",
      "12800/12800 [==============================] - 0s 11us/step - loss: 0.5172 - acc: 0.7652 - val_loss: 0.5345 - val_acc: 0.7563\n",
      "Epoch 83/200\n",
      "12800/12800 [==============================] - 0s 11us/step - loss: 0.5173 - acc: 0.7680 - val_loss: 0.5381 - val_acc: 0.7559\n",
      "Epoch 84/200\n",
      "12800/12800 [==============================] - 0s 11us/step - loss: 0.5192 - acc: 0.7674 - val_loss: 0.5407 - val_acc: 0.7566\n",
      "Epoch 85/200\n",
      "12800/12800 [==============================] - 0s 12us/step - loss: 0.5197 - acc: 0.7670 - val_loss: 0.5330 - val_acc: 0.7566\n",
      "Epoch 86/200\n",
      "12800/12800 [==============================] - 0s 11us/step - loss: 0.5183 - acc: 0.7666 - val_loss: 0.5340 - val_acc: 0.7569\n",
      "Epoch 87/200\n",
      "12800/12800 [==============================] - 0s 11us/step - loss: 0.5184 - acc: 0.7659 - val_loss: 0.5358 - val_acc: 0.7562\n",
      "Epoch 88/200\n",
      "12800/12800 [==============================] - 0s 11us/step - loss: 0.5180 - acc: 0.7666 - val_loss: 0.5346 - val_acc: 0.7556\n",
      "Epoch 89/200\n",
      "12800/12800 [==============================] - 0s 11us/step - loss: 0.5177 - acc: 0.7670 - val_loss: 0.5326 - val_acc: 0.7563\n",
      "Epoch 90/200\n",
      "12800/12800 [==============================] - 0s 11us/step - loss: 0.5157 - acc: 0.7667 - val_loss: 0.5354 - val_acc: 0.7562\n",
      "Epoch 91/200\n",
      "12800/12800 [==============================] - 0s 11us/step - loss: 0.5187 - acc: 0.7663 - val_loss: 0.5325 - val_acc: 0.7547\n",
      "Epoch 92/200\n",
      "12800/12800 [==============================] - 0s 11us/step - loss: 0.5150 - acc: 0.7670 - val_loss: 0.5374 - val_acc: 0.7556\n",
      "Epoch 93/200\n",
      "12800/12800 [==============================] - 0s 11us/step - loss: 0.5185 - acc: 0.7666 - val_loss: 0.5362 - val_acc: 0.7544\n",
      "Epoch 94/200\n",
      "12800/12800 [==============================] - 0s 11us/step - loss: 0.5179 - acc: 0.7670 - val_loss: 0.5337 - val_acc: 0.7562\n",
      "Epoch 95/200\n",
      "12800/12800 [==============================] - 0s 11us/step - loss: 0.5160 - acc: 0.7666 - val_loss: 0.5318 - val_acc: 0.7550\n",
      "Epoch 96/200\n",
      "12800/12800 [==============================] - 0s 11us/step - loss: 0.5158 - acc: 0.7669 - val_loss: 0.5352 - val_acc: 0.7563\n",
      "Epoch 97/200\n",
      "12800/12800 [==============================] - 0s 11us/step - loss: 0.5142 - acc: 0.7674 - val_loss: 0.5347 - val_acc: 0.7544\n",
      "Epoch 98/200\n",
      "12800/12800 [==============================] - 0s 11us/step - loss: 0.5146 - acc: 0.7680 - val_loss: 0.5328 - val_acc: 0.7563\n",
      "Epoch 99/200\n",
      "12800/12800 [==============================] - 0s 11us/step - loss: 0.5168 - acc: 0.7670 - val_loss: 0.5330 - val_acc: 0.7559\n",
      "Epoch 100/200\n",
      "12800/12800 [==============================] - 0s 11us/step - loss: 0.5140 - acc: 0.7685 - val_loss: 0.5337 - val_acc: 0.7566\n",
      "Epoch 101/200\n",
      "12800/12800 [==============================] - 0s 11us/step - loss: 0.5163 - acc: 0.7678 - val_loss: 0.5388 - val_acc: 0.7566\n",
      "Epoch 102/200\n",
      "12800/12800 [==============================] - 0s 11us/step - loss: 0.5132 - acc: 0.7666 - val_loss: 0.5328 - val_acc: 0.7559\n",
      "Epoch 103/200\n",
      "12800/12800 [==============================] - 0s 11us/step - loss: 0.5161 - acc: 0.7677 - val_loss: 0.5333 - val_acc: 0.7553\n",
      "Epoch 104/200\n",
      "12800/12800 [==============================] - 0s 11us/step - loss: 0.5146 - acc: 0.7656 - val_loss: 0.5312 - val_acc: 0.7553\n",
      "Epoch 105/200\n",
      "12800/12800 [==============================] - 0s 11us/step - loss: 0.5146 - acc: 0.7679 - val_loss: 0.5355 - val_acc: 0.7566\n",
      "Epoch 106/200\n",
      "12800/12800 [==============================] - 0s 11us/step - loss: 0.5160 - acc: 0.7649 - val_loss: 0.5345 - val_acc: 0.7562\n",
      "Epoch 107/200\n",
      "12800/12800 [==============================] - 0s 11us/step - loss: 0.5136 - acc: 0.7678 - val_loss: 0.5339 - val_acc: 0.7553\n",
      "Epoch 108/200\n",
      "12800/12800 [==============================] - 0s 11us/step - loss: 0.5159 - acc: 0.7675 - val_loss: 0.5342 - val_acc: 0.7553\n",
      "Epoch 109/200\n",
      "12800/12800 [==============================] - 0s 12us/step - loss: 0.5182 - acc: 0.7670 - val_loss: 0.5337 - val_acc: 0.7569\n",
      "Epoch 110/200\n",
      "12800/12800 [==============================] - 0s 11us/step - loss: 0.5134 - acc: 0.7687 - val_loss: 0.5367 - val_acc: 0.7562\n",
      "Epoch 111/200\n",
      "12800/12800 [==============================] - 0s 11us/step - loss: 0.5197 - acc: 0.7657 - val_loss: 0.5328 - val_acc: 0.7569\n",
      "Epoch 112/200\n",
      "12800/12800 [==============================] - 0s 11us/step - loss: 0.5167 - acc: 0.7673 - val_loss: 0.5359 - val_acc: 0.7562\n",
      "Epoch 113/200\n",
      "12800/12800 [==============================] - 0s 11us/step - loss: 0.5113 - acc: 0.7692 - val_loss: 0.5375 - val_acc: 0.7562\n",
      "Epoch 114/200\n",
      "12800/12800 [==============================] - 0s 11us/step - loss: 0.5147 - acc: 0.7697 - val_loss: 0.5362 - val_acc: 0.7562\n",
      "Epoch 115/200\n",
      "12800/12800 [==============================] - 0s 11us/step - loss: 0.5160 - acc: 0.7675 - val_loss: 0.5359 - val_acc: 0.7562\n",
      "Epoch 116/200\n",
      "12800/12800 [==============================] - 0s 11us/step - loss: 0.5164 - acc: 0.7678 - val_loss: 0.5395 - val_acc: 0.7559\n"
     ]
    },
    {
     "name": "stdout",
     "output_type": "stream",
     "text": [
      "Epoch 117/200\n",
      "12800/12800 [==============================] - 0s 11us/step - loss: 0.5181 - acc: 0.7676 - val_loss: 0.5360 - val_acc: 0.7550\n",
      "Epoch 118/200\n",
      "12800/12800 [==============================] - 0s 11us/step - loss: 0.5144 - acc: 0.7677 - val_loss: 0.5376 - val_acc: 0.7559\n",
      "Epoch 119/200\n",
      "12800/12800 [==============================] - 0s 11us/step - loss: 0.5163 - acc: 0.7670 - val_loss: 0.5353 - val_acc: 0.7553\n",
      "Epoch 120/200\n",
      "12800/12800 [==============================] - 0s 11us/step - loss: 0.5148 - acc: 0.7678 - val_loss: 0.5341 - val_acc: 0.7553\n",
      "Epoch 121/200\n",
      "12800/12800 [==============================] - 0s 11us/step - loss: 0.5144 - acc: 0.7673 - val_loss: 0.5374 - val_acc: 0.7559\n",
      "Epoch 122/200\n",
      "12800/12800 [==============================] - 0s 11us/step - loss: 0.5140 - acc: 0.7676 - val_loss: 0.5319 - val_acc: 0.7559\n",
      "Epoch 123/200\n",
      "12800/12800 [==============================] - 0s 11us/step - loss: 0.5141 - acc: 0.7670 - val_loss: 0.5353 - val_acc: 0.7553\n",
      "Epoch 124/200\n",
      "12800/12800 [==============================] - 0s 11us/step - loss: 0.5138 - acc: 0.7679 - val_loss: 0.5348 - val_acc: 0.7550\n",
      "Epoch 125/200\n",
      "12800/12800 [==============================] - 0s 11us/step - loss: 0.5144 - acc: 0.7681 - val_loss: 0.5335 - val_acc: 0.7556\n",
      "Epoch 126/200\n",
      "12800/12800 [==============================] - 0s 11us/step - loss: 0.5167 - acc: 0.7668 - val_loss: 0.5325 - val_acc: 0.7556\n",
      "Epoch 127/200\n",
      "12800/12800 [==============================] - 0s 11us/step - loss: 0.5123 - acc: 0.7677 - val_loss: 0.5373 - val_acc: 0.7550\n",
      "Epoch 128/200\n",
      "12800/12800 [==============================] - 0s 11us/step - loss: 0.5109 - acc: 0.7681 - val_loss: 0.5348 - val_acc: 0.7553\n",
      "Epoch 129/200\n",
      "12800/12800 [==============================] - 0s 11us/step - loss: 0.5136 - acc: 0.7670 - val_loss: 0.5320 - val_acc: 0.7559\n",
      "Epoch 130/200\n",
      "12800/12800 [==============================] - 0s 11us/step - loss: 0.5132 - acc: 0.7662 - val_loss: 0.5345 - val_acc: 0.7550\n",
      "Epoch 131/200\n",
      "12800/12800 [==============================] - 0s 11us/step - loss: 0.5136 - acc: 0.7680 - val_loss: 0.5348 - val_acc: 0.7547\n",
      "Epoch 132/200\n",
      "12800/12800 [==============================] - 0s 11us/step - loss: 0.5107 - acc: 0.7687 - val_loss: 0.5333 - val_acc: 0.7562\n",
      "Epoch 133/200\n",
      "12800/12800 [==============================] - 0s 11us/step - loss: 0.5118 - acc: 0.7672 - val_loss: 0.5342 - val_acc: 0.7569\n",
      "Epoch 134/200\n",
      "12800/12800 [==============================] - 0s 11us/step - loss: 0.5142 - acc: 0.7677 - val_loss: 0.5353 - val_acc: 0.7562\n",
      "Epoch 135/200\n",
      "12800/12800 [==============================] - 0s 11us/step - loss: 0.5122 - acc: 0.7677 - val_loss: 0.5302 - val_acc: 0.7566\n",
      "Epoch 136/200\n",
      "12800/12800 [==============================] - 0s 11us/step - loss: 0.5127 - acc: 0.7680 - val_loss: 0.5340 - val_acc: 0.7553\n",
      "Epoch 137/200\n",
      "12800/12800 [==============================] - 0s 11us/step - loss: 0.5152 - acc: 0.7680 - val_loss: 0.5346 - val_acc: 0.7559\n",
      "Epoch 138/200\n",
      "12800/12800 [==============================] - 0s 11us/step - loss: 0.5153 - acc: 0.7673 - val_loss: 0.5317 - val_acc: 0.7572\n",
      "Epoch 139/200\n",
      "12800/12800 [==============================] - 0s 11us/step - loss: 0.5128 - acc: 0.7668 - val_loss: 0.5324 - val_acc: 0.7559\n",
      "Epoch 140/200\n",
      "12800/12800 [==============================] - 0s 11us/step - loss: 0.5148 - acc: 0.7687 - val_loss: 0.5326 - val_acc: 0.7569\n",
      "Epoch 141/200\n",
      "12800/12800 [==============================] - 0s 11us/step - loss: 0.5152 - acc: 0.7670 - val_loss: 0.5325 - val_acc: 0.7569\n",
      "Epoch 142/200\n",
      "12800/12800 [==============================] - 0s 11us/step - loss: 0.5131 - acc: 0.7686 - val_loss: 0.5329 - val_acc: 0.7559\n",
      "Epoch 143/200\n",
      "12800/12800 [==============================] - 0s 11us/step - loss: 0.5167 - acc: 0.7680 - val_loss: 0.5313 - val_acc: 0.7547\n",
      "Epoch 144/200\n",
      "12800/12800 [==============================] - 0s 11us/step - loss: 0.5155 - acc: 0.7684 - val_loss: 0.5326 - val_acc: 0.7566\n",
      "Epoch 145/200\n",
      "12800/12800 [==============================] - 0s 11us/step - loss: 0.5141 - acc: 0.7666 - val_loss: 0.5308 - val_acc: 0.7575\n",
      "Epoch 146/200\n",
      "12800/12800 [==============================] - 0s 11us/step - loss: 0.5122 - acc: 0.7698 - val_loss: 0.5321 - val_acc: 0.7569\n",
      "Epoch 147/200\n",
      "12800/12800 [==============================] - 0s 11us/step - loss: 0.5135 - acc: 0.7672 - val_loss: 0.5326 - val_acc: 0.7563\n",
      "Epoch 148/200\n",
      "12800/12800 [==============================] - 0s 11us/step - loss: 0.5144 - acc: 0.7669 - val_loss: 0.5341 - val_acc: 0.7566\n",
      "Epoch 149/200\n",
      "12800/12800 [==============================] - 0s 11us/step - loss: 0.5112 - acc: 0.7687 - val_loss: 0.5325 - val_acc: 0.7559\n",
      "Epoch 150/200\n",
      "12800/12800 [==============================] - 0s 11us/step - loss: 0.5158 - acc: 0.7656 - val_loss: 0.5320 - val_acc: 0.7550\n",
      "Epoch 151/200\n",
      "12800/12800 [==============================] - 0s 11us/step - loss: 0.5098 - acc: 0.7706 - val_loss: 0.5334 - val_acc: 0.7562\n",
      "Epoch 152/200\n",
      "12800/12800 [==============================] - 0s 11us/step - loss: 0.5113 - acc: 0.7698 - val_loss: 0.5304 - val_acc: 0.7556\n",
      "Epoch 153/200\n",
      "12800/12800 [==============================] - 0s 11us/step - loss: 0.5128 - acc: 0.7681 - val_loss: 0.5353 - val_acc: 0.7562\n",
      "Epoch 154/200\n",
      "12800/12800 [==============================] - 0s 11us/step - loss: 0.5070 - acc: 0.7693 - val_loss: 0.5341 - val_acc: 0.7559\n",
      "Epoch 155/200\n",
      "12800/12800 [==============================] - 0s 11us/step - loss: 0.5129 - acc: 0.7684 - val_loss: 0.5344 - val_acc: 0.7569\n",
      "Epoch 156/200\n",
      "12800/12800 [==============================] - 0s 11us/step - loss: 0.5102 - acc: 0.7702 - val_loss: 0.5362 - val_acc: 0.7547\n",
      "Epoch 157/200\n",
      "12800/12800 [==============================] - 0s 11us/step - loss: 0.5153 - acc: 0.7667 - val_loss: 0.5339 - val_acc: 0.7559\n",
      "Epoch 158/200\n",
      "12800/12800 [==============================] - 0s 11us/step - loss: 0.5127 - acc: 0.7689 - val_loss: 0.5355 - val_acc: 0.7556\n",
      "Epoch 159/200\n",
      "12800/12800 [==============================] - 0s 11us/step - loss: 0.5113 - acc: 0.7681 - val_loss: 0.5331 - val_acc: 0.7556\n",
      "Epoch 160/200\n",
      "12800/12800 [==============================] - 0s 11us/step - loss: 0.5117 - acc: 0.7677 - val_loss: 0.5370 - val_acc: 0.7562\n",
      "Epoch 161/200\n",
      "12800/12800 [==============================] - 0s 11us/step - loss: 0.5116 - acc: 0.7684 - val_loss: 0.5334 - val_acc: 0.7562\n",
      "Epoch 162/200\n",
      "12800/12800 [==============================] - 0s 11us/step - loss: 0.5124 - acc: 0.7697 - val_loss: 0.5342 - val_acc: 0.7562\n",
      "Epoch 163/200\n",
      "12800/12800 [==============================] - 0s 11us/step - loss: 0.5113 - acc: 0.7699 - val_loss: 0.5332 - val_acc: 0.7559\n",
      "Epoch 164/200\n",
      "12800/12800 [==============================] - 0s 11us/step - loss: 0.5125 - acc: 0.7670 - val_loss: 0.5310 - val_acc: 0.7566\n",
      "Epoch 165/200\n",
      "12800/12800 [==============================] - 0s 11us/step - loss: 0.5127 - acc: 0.7669 - val_loss: 0.5336 - val_acc: 0.7553\n",
      "Epoch 166/200\n",
      "12800/12800 [==============================] - 0s 11us/step - loss: 0.5150 - acc: 0.7676 - val_loss: 0.5351 - val_acc: 0.7556\n",
      "Epoch 167/200\n",
      "12800/12800 [==============================] - 0s 11us/step - loss: 0.5158 - acc: 0.7678 - val_loss: 0.5312 - val_acc: 0.7572\n",
      "Epoch 168/200\n",
      "12800/12800 [==============================] - 0s 11us/step - loss: 0.5146 - acc: 0.7692 - val_loss: 0.5320 - val_acc: 0.7566\n",
      "Epoch 169/200\n",
      "12800/12800 [==============================] - 0s 12us/step - loss: 0.5132 - acc: 0.7673 - val_loss: 0.5339 - val_acc: 0.7556\n",
      "Epoch 170/200\n",
      "12800/12800 [==============================] - 0s 11us/step - loss: 0.5123 - acc: 0.7698 - val_loss: 0.5320 - val_acc: 0.7566\n",
      "Epoch 171/200\n",
      "12800/12800 [==============================] - 0s 11us/step - loss: 0.5107 - acc: 0.7701 - val_loss: 0.5335 - val_acc: 0.7569\n",
      "Epoch 172/200\n",
      "12800/12800 [==============================] - 0s 12us/step - loss: 0.5124 - acc: 0.7682 - val_loss: 0.5333 - val_acc: 0.7566\n",
      "Epoch 173/200\n",
      "12800/12800 [==============================] - 0s 12us/step - loss: 0.5072 - acc: 0.7691 - val_loss: 0.5320 - val_acc: 0.7563\n",
      "Epoch 174/200\n",
      "12800/12800 [==============================] - 0s 11us/step - loss: 0.5075 - acc: 0.7683 - val_loss: 0.5333 - val_acc: 0.7559\n",
      "Epoch 175/200\n"
     ]
    },
    {
     "name": "stdout",
     "output_type": "stream",
     "text": [
      "12800/12800 [==============================] - 0s 13us/step - loss: 0.5131 - acc: 0.7695 - val_loss: 0.5358 - val_acc: 0.7562\n",
      "Epoch 176/200\n",
      "12800/12800 [==============================] - 0s 11us/step - loss: 0.5101 - acc: 0.7696 - val_loss: 0.5340 - val_acc: 0.7569\n",
      "Epoch 177/200\n",
      "12800/12800 [==============================] - 0s 11us/step - loss: 0.5101 - acc: 0.7687 - val_loss: 0.5333 - val_acc: 0.7566\n",
      "Epoch 178/200\n",
      "12800/12800 [==============================] - 0s 11us/step - loss: 0.5092 - acc: 0.7702 - val_loss: 0.5328 - val_acc: 0.7572\n",
      "Epoch 179/200\n",
      "12800/12800 [==============================] - 0s 11us/step - loss: 0.5072 - acc: 0.7688 - val_loss: 0.5329 - val_acc: 0.7591\n",
      "Epoch 180/200\n",
      "12800/12800 [==============================] - 0s 11us/step - loss: 0.5111 - acc: 0.7692 - val_loss: 0.5321 - val_acc: 0.7572\n",
      "Epoch 181/200\n",
      "12800/12800 [==============================] - 0s 11us/step - loss: 0.5105 - acc: 0.7692 - val_loss: 0.5379 - val_acc: 0.7569\n",
      "Epoch 182/200\n",
      "12800/12800 [==============================] - 0s 11us/step - loss: 0.5181 - acc: 0.7677 - val_loss: 0.5353 - val_acc: 0.7569\n",
      "Epoch 183/200\n",
      "12800/12800 [==============================] - 0s 11us/step - loss: 0.5122 - acc: 0.7679 - val_loss: 0.5375 - val_acc: 0.7553\n",
      "Epoch 184/200\n",
      "12800/12800 [==============================] - 0s 11us/step - loss: 0.5124 - acc: 0.7686 - val_loss: 0.5379 - val_acc: 0.7559\n",
      "Epoch 185/200\n",
      "12800/12800 [==============================] - 0s 11us/step - loss: 0.5126 - acc: 0.7687 - val_loss: 0.5352 - val_acc: 0.7566\n",
      "Epoch 186/200\n",
      "12800/12800 [==============================] - 0s 11us/step - loss: 0.5126 - acc: 0.7677 - val_loss: 0.5352 - val_acc: 0.7559\n",
      "Epoch 187/200\n",
      "12800/12800 [==============================] - 0s 11us/step - loss: 0.5137 - acc: 0.7677 - val_loss: 0.5349 - val_acc: 0.7566\n",
      "Epoch 188/200\n",
      "12800/12800 [==============================] - 0s 11us/step - loss: 0.5120 - acc: 0.7694 - val_loss: 0.5355 - val_acc: 0.7550\n",
      "Epoch 189/200\n",
      "12800/12800 [==============================] - 0s 11us/step - loss: 0.5100 - acc: 0.7680 - val_loss: 0.5345 - val_acc: 0.7556\n",
      "Epoch 190/200\n",
      "12800/12800 [==============================] - 0s 11us/step - loss: 0.5141 - acc: 0.7676 - val_loss: 0.5370 - val_acc: 0.7559\n",
      "Epoch 191/200\n",
      "12800/12800 [==============================] - 0s 11us/step - loss: 0.5121 - acc: 0.7684 - val_loss: 0.5357 - val_acc: 0.7559\n",
      "Epoch 192/200\n",
      "12800/12800 [==============================] - 0s 11us/step - loss: 0.5120 - acc: 0.7671 - val_loss: 0.5343 - val_acc: 0.7562\n",
      "Epoch 193/200\n",
      "12800/12800 [==============================] - 0s 11us/step - loss: 0.5088 - acc: 0.7706 - val_loss: 0.5331 - val_acc: 0.7556\n",
      "Epoch 194/200\n",
      "12800/12800 [==============================] - 0s 11us/step - loss: 0.5143 - acc: 0.7684 - val_loss: 0.5338 - val_acc: 0.7581\n",
      "Epoch 195/200\n",
      "12800/12800 [==============================] - 0s 11us/step - loss: 0.5082 - acc: 0.7691 - val_loss: 0.5330 - val_acc: 0.7581\n",
      "Epoch 196/200\n",
      "12800/12800 [==============================] - 0s 11us/step - loss: 0.5090 - acc: 0.7699 - val_loss: 0.5320 - val_acc: 0.7566\n",
      "Epoch 197/200\n",
      "12800/12800 [==============================] - 0s 11us/step - loss: 0.5115 - acc: 0.7683 - val_loss: 0.5337 - val_acc: 0.7562\n",
      "Epoch 198/200\n",
      "12800/12800 [==============================] - 0s 11us/step - loss: 0.5134 - acc: 0.7672 - val_loss: 0.5382 - val_acc: 0.7569\n",
      "Epoch 199/200\n",
      "12800/12800 [==============================] - 0s 11us/step - loss: 0.5145 - acc: 0.7678 - val_loss: 0.5361 - val_acc: 0.7550\n",
      "Epoch 200/200\n",
      "12800/12800 [==============================] - 0s 11us/step - loss: 0.5106 - acc: 0.7695 - val_loss: 0.5370 - val_acc: 0.7575\n"
     ]
    }
   ],
   "source": [
    "history = model.fit(\n",
    "    X_train,\n",
    "    y_train, \n",
    "    validation_split=0.2,\n",
    "    batch_size=500, \n",
    "    epochs=200,\n",
    "    #callbacks=[early_stopping_monitor]\n",
    ")"
   ]
  },
  {
   "cell_type": "code",
   "execution_count": 10,
   "metadata": {
    "ExecuteTime": {
     "end_time": "2019-06-09T09:47:58.193235Z",
     "start_time": "2019-06-09T09:47:57.983894Z"
    }
   },
   "outputs": [
    {
     "data": {
      "image/png": "[encoded data removed]",
      "text/plain": [
       "<Figure size 432x288 with 1 Axes>"
      ]
     },
     "metadata": {},
     "output_type": "display_data"
    }
   ],
   "source": [
    "plt.plot(history.history['acc'])\n",
    "plt.plot(history.history['val_acc'])\n",
    "plt.title('model accuracy')\n",
    "plt.ylabel('accuracy')\n",
    "plt.xlabel('epoch')\n",
    "plt.legend(['train', 'test'], loc='upper left')\n",
    "plt.show()"
   ]
  },
  {
   "cell_type": "code",
   "execution_count": null,
   "metadata": {},
   "outputs": [],
   "source": []
  }
 ],
 "metadata": {
  "kernelspec": {
   "display_name": "Python 3",
   "language": "python",
   "name": "python3"
  },
  "language_info": {
   "codemirror_mode": {
    "name": "ipython",
    "version": 3
   },
   "file_extension": ".py",
   "mimetype": "text/x-python",
   "name": "python",
   "nbconvert_exporter": "python",
   "pygments_lexer": "ipython3",
   "version": "3.6.8"
  },
  "varInspector": {
   "cols": {
    "lenName": 16,
    "lenType": 16,
    "lenVar": 40
   },
   "kernels_config": {
    "python": {
     "delete_cmd_postfix": "",
     "delete_cmd_prefix": "del ",
     "library": "var_list.py",
     "varRefreshCmd": "print(var_dic_list())"
    },
    "r": {
     "delete_cmd_postfix": ") ",
     "delete_cmd_prefix": "rm(",
     "library": "var_list.r",
     "varRefreshCmd": "cat(var_dic_list()) "
    }
   },
   "types_to_exclude": [
    "module",
    "function",
    "builtin_function_or_method",
    "instance",
    "_Feature"
   ],
   "window_display": false
  }
 },
 "nbformat": 4,
 "nbformat_minor": 2
}
