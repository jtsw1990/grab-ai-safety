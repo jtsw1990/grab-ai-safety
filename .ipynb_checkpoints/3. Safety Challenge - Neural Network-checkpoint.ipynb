{
 "cells": [
  {
   "cell_type": "code",
   "execution_count": 1,
   "metadata": {
    "ExecuteTime": {
     "end_time": "2019-06-09T08:51:58.736888Z",
     "start_time": "2019-06-09T08:51:53.388353Z"
    }
   },
   "outputs": [
    {
     "name": "stderr",
     "output_type": "stream",
     "text": [
      "Using TensorFlow backend.\n"
     ]
    }
   ],
   "source": [
    "import keras\n",
    "from keras import Sequential\n",
    "from keras.layers import Dense, Dropout\n",
    "import pandas as pd\n",
    "import numpy as np\n",
    "import matplotlib.pyplot as plt\n",
    "import seaborn as sns\n",
    "from sklearn.model_selection import train_test_split, StratifiedKFold, GridSearchCV, cross_val_score\n",
    "from sklearn.preprocessing import LabelEncoder, StandardScaler\n",
    "from sklearn.metrics import confusion_matrix, roc_auc_score, roc_curve, accuracy_score\n",
    "from keras.callbacks import EarlyStopping"
   ]
  },
  {
   "cell_type": "code",
   "execution_count": 2,
   "metadata": {
    "ExecuteTime": {
     "end_time": "2019-06-09T08:51:58.757948Z",
     "start_time": "2019-06-09T08:51:58.740137Z"
    }
   },
   "outputs": [],
   "source": [
    "df = pd.read_pickle(\"outputs/df_cleaned.pickle\")"
   ]
  },
  {
   "cell_type": "code",
   "execution_count": 3,
   "metadata": {
    "ExecuteTime": {
     "end_time": "2019-06-09T08:51:58.834005Z",
     "start_time": "2019-06-09T08:51:58.761825Z"
    }
   },
   "outputs": [],
   "source": [
    "features = df.iloc[:, :-1]\n",
    "response = df.iloc[:, -1]\n",
    "le = LabelEncoder().fit(response)\n",
    "features_scaled = StandardScaler().fit_transform(features)\n",
    "response_tf = le.transform(response)"
   ]
  },
  {
   "cell_type": "code",
   "execution_count": 4,
   "metadata": {
    "ExecuteTime": {
     "end_time": "2019-06-09T08:51:58.866913Z",
     "start_time": "2019-06-09T08:51:58.838398Z"
    }
   },
   "outputs": [],
   "source": [
    "X_train, x_test, y_train, y_test = train_test_split(\n",
    "    features_scaled,\n",
    "    response_tf,\n",
    "    test_size=0.2,\n",
    "    random_state=42\n",
    ")"
   ]
  },
  {
   "cell_type": "code",
   "execution_count": 5,
   "metadata": {
    "ExecuteTime": {
     "end_time": "2019-06-09T08:51:58.896905Z",
     "start_time": "2019-06-09T08:51:58.870241Z"
    }
   },
   "outputs": [],
   "source": [
    "model = Sequential()"
   ]
  },
  {
   "cell_type": "code",
   "execution_count": 6,
   "metadata": {
    "ExecuteTime": {
     "end_time": "2019-06-09T08:51:58.903637Z",
     "start_time": "2019-06-09T08:51:58.899850Z"
    }
   },
   "outputs": [],
   "source": [
    "n_cols = X_train.shape[1]"
   ]
  },
  {
   "cell_type": "code",
   "execution_count": 7,
   "metadata": {
    "ExecuteTime": {
     "end_time": "2019-06-09T08:51:59.177035Z",
     "start_time": "2019-06-09T08:51:58.907349Z"
    }
   },
   "outputs": [
    {
     "name": "stdout",
     "output_type": "stream",
     "text": [
      "WARNING:tensorflow:From /anaconda3/lib/python3.6/site-packages/tensorflow/python/framework/op_def_library.py:263: colocate_with (from tensorflow.python.framework.ops) is deprecated and will be removed in a future version.\n",
      "Instructions for updating:\n",
      "Colocations handled automatically by placer.\n",
      "WARNING:tensorflow:From /anaconda3/lib/python3.6/site-packages/keras/backend/tensorflow_backend.py:3445: calling dropout (from tensorflow.python.ops.nn_ops) with keep_prob is deprecated and will be removed in a future version.\n",
      "Instructions for updating:\n",
      "Please use `rate` instead of `keep_prob`. Rate should be set to `rate = 1 - keep_prob`.\n"
     ]
    }
   ],
   "source": [
    "model.add(Dense(125, activation=\"relu\", input_shape=(n_cols,)))\n",
    "model.add(Dropout(0.5))\n",
    "model.add(Dense(125, activation=\"relu\"))\n",
    "model.add(Dropout(0.5))\n",
    "model.add(Dense(125, activation=\"relu\"))\n",
    "model.add(Dropout(0.5))\n",
    "model.add(Dense(1, activation=\"sigmoid\"))"
   ]
  },
  {
   "cell_type": "code",
   "execution_count": 8,
   "metadata": {
    "ExecuteTime": {
     "end_time": "2019-06-09T08:51:59.297148Z",
     "start_time": "2019-06-09T08:51:59.180011Z"
    }
   },
   "outputs": [],
   "source": [
    "adam = keras.optimizers.Adam(lr=0.0001, beta_1=0.9, beta_2=0.999, epsilon=1e-8)\n",
    "early_stopping_monitor = EarlyStopping(patience=100)\n",
    "model.compile(\n",
    "    optimizer =adam,\n",
    "    loss='binary_crossentropy', \n",
    "    metrics =['accuracy'],\n",
    ")"
   ]
  },
  {
   "cell_type": "code",
   "execution_count": null,
   "metadata": {
    "ExecuteTime": {
     "start_time": "2019-06-09T08:51:53.382Z"
    },
    "scrolled": true
   },
   "outputs": [
    {
     "name": "stdout",
     "output_type": "stream",
     "text": [
      "WARNING:tensorflow:From /anaconda3/lib/python3.6/site-packages/tensorflow/python/ops/math_ops.py:3066: to_int32 (from tensorflow.python.ops.math_ops) is deprecated and will be removed in a future version.\n",
      "Instructions for updating:\n",
      "Use tf.cast instead.\n",
      "Train on 12800 samples, validate on 3200 samples\n",
      "Epoch 1/10000\n",
      "12800/12800 [==============================] - 2s 133us/step - loss: 0.6343 - acc: 0.6977 - val_loss: 0.5852 - val_acc: 0.7425\n",
      "Epoch 2/10000\n",
      "12800/12800 [==============================] - 1s 47us/step - loss: 0.5975 - acc: 0.7420 - val_loss: 0.5704 - val_acc: 0.7509\n",
      "Epoch 3/10000\n",
      "12800/12800 [==============================] - 1s 51us/step - loss: 0.5873 - acc: 0.7438 - val_loss: 0.5652 - val_acc: 0.7534\n",
      "Epoch 4/10000\n",
      "12800/12800 [==============================] - 1s 52us/step - loss: 0.5830 - acc: 0.7479 - val_loss: 0.5613 - val_acc: 0.7531\n",
      "Epoch 5/10000\n",
      "12800/12800 [==============================] - 1s 48us/step - loss: 0.5739 - acc: 0.7516 - val_loss: 0.5606 - val_acc: 0.7531\n",
      "Epoch 6/10000\n",
      "12800/12800 [==============================] - 1s 51us/step - loss: 0.5706 - acc: 0.7517 - val_loss: 0.5578 - val_acc: 0.7534\n",
      "Epoch 7/10000\n",
      "12800/12800 [==============================] - 1s 50us/step - loss: 0.5627 - acc: 0.7545 - val_loss: 0.5571 - val_acc: 0.7519\n",
      "Epoch 8/10000\n",
      "12800/12800 [==============================] - 1s 51us/step - loss: 0.5607 - acc: 0.7538 - val_loss: 0.5551 - val_acc: 0.7509\n",
      "Epoch 9/10000\n",
      "12800/12800 [==============================] - 1s 49us/step - loss: 0.5569 - acc: 0.7572 - val_loss: 0.5545 - val_acc: 0.7500\n",
      "Epoch 10/10000\n",
      "12800/12800 [==============================] - 1s 54us/step - loss: 0.5597 - acc: 0.7570 - val_loss: 0.5542 - val_acc: 0.7494\n",
      "Epoch 11/10000\n",
      "12800/12800 [==============================] - 1s 52us/step - loss: 0.5527 - acc: 0.7580 - val_loss: 0.5527 - val_acc: 0.7500\n",
      "Epoch 12/10000\n",
      "12800/12800 [==============================] - 1s 53us/step - loss: 0.5511 - acc: 0.7591 - val_loss: 0.5518 - val_acc: 0.7519\n",
      "Epoch 13/10000\n",
      "12800/12800 [==============================] - 1s 51us/step - loss: 0.5529 - acc: 0.7604 - val_loss: 0.5517 - val_acc: 0.7509\n",
      "Epoch 14/10000\n",
      "12800/12800 [==============================] - 1s 50us/step - loss: 0.5466 - acc: 0.7591 - val_loss: 0.5508 - val_acc: 0.7513\n",
      "Epoch 15/10000\n",
      "12800/12800 [==============================] - 1s 48us/step - loss: 0.5498 - acc: 0.7610 - val_loss: 0.5495 - val_acc: 0.7519\n",
      "Epoch 16/10000\n",
      "12800/12800 [==============================] - 1s 50us/step - loss: 0.5450 - acc: 0.7610 - val_loss: 0.5487 - val_acc: 0.7525\n",
      "Epoch 17/10000\n",
      "12800/12800 [==============================] - 1s 54us/step - loss: 0.5481 - acc: 0.7595 - val_loss: 0.5495 - val_acc: 0.7528\n",
      "Epoch 18/10000\n",
      "12800/12800 [==============================] - 1s 52us/step - loss: 0.5439 - acc: 0.7607 - val_loss: 0.5480 - val_acc: 0.7537\n",
      "Epoch 19/10000\n",
      "12800/12800 [==============================] - 1s 50us/step - loss: 0.5450 - acc: 0.7616 - val_loss: 0.5482 - val_acc: 0.7534\n",
      "Epoch 20/10000\n",
      "12800/12800 [==============================] - 1s 56us/step - loss: 0.5419 - acc: 0.7611 - val_loss: 0.5485 - val_acc: 0.7534\n",
      "Epoch 21/10000\n",
      "12800/12800 [==============================] - 1s 51us/step - loss: 0.5410 - acc: 0.7626 - val_loss: 0.5477 - val_acc: 0.7534\n",
      "Epoch 22/10000\n",
      "12800/12800 [==============================] - 1s 52us/step - loss: 0.5430 - acc: 0.7620 - val_loss: 0.5476 - val_acc: 0.7531\n",
      "Epoch 23/10000\n",
      "12800/12800 [==============================] - 1s 49us/step - loss: 0.5403 - acc: 0.7639 - val_loss: 0.5480 - val_acc: 0.7522\n",
      "Epoch 24/10000\n",
      "12800/12800 [==============================] - 1s 50us/step - loss: 0.5394 - acc: 0.7636 - val_loss: 0.5471 - val_acc: 0.7550\n",
      "Epoch 25/10000\n",
      "12800/12800 [==============================] - 1s 50us/step - loss: 0.5390 - acc: 0.7620 - val_loss: 0.5461 - val_acc: 0.7544\n",
      "Epoch 26/10000\n",
      "12800/12800 [==============================] - 1s 50us/step - loss: 0.5389 - acc: 0.7628 - val_loss: 0.5468 - val_acc: 0.7544\n",
      "Epoch 27/10000\n",
      "12800/12800 [==============================] - 1s 50us/step - loss: 0.5387 - acc: 0.7616 - val_loss: 0.5457 - val_acc: 0.7547\n",
      "Epoch 28/10000\n",
      "12800/12800 [==============================] - 1s 47us/step - loss: 0.5388 - acc: 0.7634 - val_loss: 0.5464 - val_acc: 0.7541\n",
      "Epoch 29/10000\n",
      "12800/12800 [==============================] - 1s 54us/step - loss: 0.5360 - acc: 0.7631 - val_loss: 0.5454 - val_acc: 0.7541\n",
      "Epoch 30/10000\n",
      "12800/12800 [==============================] - 1s 50us/step - loss: 0.5372 - acc: 0.7645 - val_loss: 0.5461 - val_acc: 0.7541\n",
      "Epoch 31/10000\n",
      "12800/12800 [==============================] - 1s 51us/step - loss: 0.5353 - acc: 0.7636 - val_loss: 0.5442 - val_acc: 0.7547\n",
      "Epoch 32/10000\n",
      "12800/12800 [==============================] - 1s 50us/step - loss: 0.5330 - acc: 0.7648 - val_loss: 0.5444 - val_acc: 0.7547\n",
      "Epoch 33/10000\n",
      "12800/12800 [==============================] - 1s 53us/step - loss: 0.5331 - acc: 0.7641 - val_loss: 0.5440 - val_acc: 0.7547\n",
      "Epoch 34/10000\n",
      "12800/12800 [==============================] - 1s 48us/step - loss: 0.5349 - acc: 0.7634 - val_loss: 0.5436 - val_acc: 0.7541\n",
      "Epoch 35/10000\n",
      "12800/12800 [==============================] - 1s 51us/step - loss: 0.5350 - acc: 0.7640 - val_loss: 0.5436 - val_acc: 0.7541\n",
      "Epoch 36/10000\n",
      "12800/12800 [==============================] - 1s 51us/step - loss: 0.5311 - acc: 0.7654 - val_loss: 0.5436 - val_acc: 0.7544\n",
      "Epoch 37/10000\n",
      "12800/12800 [==============================] - 1s 50us/step - loss: 0.5340 - acc: 0.7643 - val_loss: 0.5436 - val_acc: 0.7538\n",
      "Epoch 38/10000\n",
      "12800/12800 [==============================] - 1s 52us/step - loss: 0.5311 - acc: 0.7640 - val_loss: 0.5431 - val_acc: 0.7538\n",
      "Epoch 39/10000\n",
      "12800/12800 [==============================] - 1s 52us/step - loss: 0.5308 - acc: 0.7648 - val_loss: 0.5429 - val_acc: 0.7544\n",
      "Epoch 40/10000\n",
      "12800/12800 [==============================] - 1s 49us/step - loss: 0.5287 - acc: 0.7651 - val_loss: 0.5421 - val_acc: 0.7544\n",
      "Epoch 41/10000\n",
      "12800/12800 [==============================] - 1s 51us/step - loss: 0.5318 - acc: 0.7645 - val_loss: 0.5425 - val_acc: 0.7544\n",
      "Epoch 42/10000\n",
      "12800/12800 [==============================] - 1s 53us/step - loss: 0.5333 - acc: 0.7637 - val_loss: 0.5417 - val_acc: 0.7541\n",
      "Epoch 43/10000\n",
      "12800/12800 [==============================] - 1s 51us/step - loss: 0.5300 - acc: 0.7650 - val_loss: 0.5417 - val_acc: 0.7541\n",
      "Epoch 44/10000\n",
      "12800/12800 [==============================] - 1s 52us/step - loss: 0.5295 - acc: 0.7645 - val_loss: 0.5411 - val_acc: 0.7544\n",
      "Epoch 45/10000\n",
      "12800/12800 [==============================] - 1s 50us/step - loss: 0.5288 - acc: 0.7652 - val_loss: 0.5396 - val_acc: 0.7544\n",
      "Epoch 46/10000\n",
      "12800/12800 [==============================] - 1s 54us/step - loss: 0.5283 - acc: 0.7648 - val_loss: 0.5399 - val_acc: 0.7544\n",
      "Epoch 47/10000\n",
      "12800/12800 [==============================] - 1s 51us/step - loss: 0.5294 - acc: 0.7644 - val_loss: 0.5412 - val_acc: 0.7544\n",
      "Epoch 48/10000\n",
      "12800/12800 [==============================] - 1s 54us/step - loss: 0.5299 - acc: 0.7650 - val_loss: 0.5408 - val_acc: 0.7544\n",
      "Epoch 49/10000\n",
      "12800/12800 [==============================] - 1s 52us/step - loss: 0.5305 - acc: 0.7652 - val_loss: 0.5405 - val_acc: 0.7541\n",
      "Epoch 50/10000\n",
      "12800/12800 [==============================] - 1s 50us/step - loss: 0.5288 - acc: 0.7656 - val_loss: 0.5398 - val_acc: 0.7541\n",
      "Epoch 51/10000\n",
      "12800/12800 [==============================] - 1s 52us/step - loss: 0.5279 - acc: 0.7655 - val_loss: 0.5400 - val_acc: 0.7534\n",
      "Epoch 52/10000\n",
      "12800/12800 [==============================] - 1s 53us/step - loss: 0.5251 - acc: 0.7653 - val_loss: 0.5395 - val_acc: 0.7538\n",
      "Epoch 53/10000\n",
      "12800/12800 [==============================] - 1s 50us/step - loss: 0.5315 - acc: 0.7645 - val_loss: 0.5401 - val_acc: 0.7538\n",
      "Epoch 54/10000\n",
      "12800/12800 [==============================] - 1s 53us/step - loss: 0.5291 - acc: 0.7649 - val_loss: 0.5394 - val_acc: 0.7538\n",
      "Epoch 55/10000\n",
      "12800/12800 [==============================] - 1s 51us/step - loss: 0.5243 - acc: 0.7667 - val_loss: 0.5393 - val_acc: 0.7538\n",
      "Epoch 56/10000\n",
      "12800/12800 [==============================] - 1s 52us/step - loss: 0.5237 - acc: 0.7660 - val_loss: 0.5385 - val_acc: 0.7538\n",
      "Epoch 57/10000\n"
     ]
    },
    {
     "name": "stdout",
     "output_type": "stream",
     "text": [
      "12800/12800 [==============================] - 1s 51us/step - loss: 0.5270 - acc: 0.7648 - val_loss: 0.5376 - val_acc: 0.7538\n",
      "Epoch 58/10000\n",
      "12800/12800 [==============================] - 1s 51us/step - loss: 0.5245 - acc: 0.7643 - val_loss: 0.5376 - val_acc: 0.7538\n",
      "Epoch 59/10000\n",
      "12800/12800 [==============================] - 1s 52us/step - loss: 0.5255 - acc: 0.7661 - val_loss: 0.5377 - val_acc: 0.7538\n",
      "Epoch 60/10000\n",
      "12800/12800 [==============================] - 1s 51us/step - loss: 0.5263 - acc: 0.7648 - val_loss: 0.5379 - val_acc: 0.7541\n",
      "Epoch 61/10000\n",
      "12800/12800 [==============================] - 1s 50us/step - loss: 0.5267 - acc: 0.7658 - val_loss: 0.5375 - val_acc: 0.7541\n",
      "Epoch 62/10000\n",
      "12800/12800 [==============================] - 1s 51us/step - loss: 0.5228 - acc: 0.7673 - val_loss: 0.5375 - val_acc: 0.7538\n",
      "Epoch 63/10000\n",
      "12800/12800 [==============================] - 1s 49us/step - loss: 0.5258 - acc: 0.7652 - val_loss: 0.5381 - val_acc: 0.7538\n",
      "Epoch 64/10000\n",
      "12800/12800 [==============================] - 1s 49us/step - loss: 0.5255 - acc: 0.7653 - val_loss: 0.5377 - val_acc: 0.7541\n",
      "Epoch 65/10000\n",
      "12800/12800 [==============================] - 1s 48us/step - loss: 0.5248 - acc: 0.7666 - val_loss: 0.5368 - val_acc: 0.7544\n",
      "Epoch 66/10000\n",
      "12800/12800 [==============================] - 1s 50us/step - loss: 0.5266 - acc: 0.7668 - val_loss: 0.5378 - val_acc: 0.7544\n",
      "Epoch 67/10000\n",
      "12800/12800 [==============================] - 1s 51us/step - loss: 0.5234 - acc: 0.7652 - val_loss: 0.5373 - val_acc: 0.7544\n",
      "Epoch 68/10000\n",
      "12800/12800 [==============================] - 1s 47us/step - loss: 0.5231 - acc: 0.7662 - val_loss: 0.5368 - val_acc: 0.7544\n",
      "Epoch 69/10000\n",
      "12800/12800 [==============================] - 1s 52us/step - loss: 0.5237 - acc: 0.7662 - val_loss: 0.5365 - val_acc: 0.7547\n",
      "Epoch 70/10000\n",
      "12800/12800 [==============================] - 1s 52us/step - loss: 0.5235 - acc: 0.7661 - val_loss: 0.5362 - val_acc: 0.7544\n",
      "Epoch 71/10000\n",
      "12800/12800 [==============================] - 1s 51us/step - loss: 0.5226 - acc: 0.7652 - val_loss: 0.5364 - val_acc: 0.7544\n",
      "Epoch 72/10000\n",
      "12800/12800 [==============================] - 1s 52us/step - loss: 0.5222 - acc: 0.7662 - val_loss: 0.5357 - val_acc: 0.7544\n",
      "Epoch 73/10000\n",
      "12800/12800 [==============================] - 1s 54us/step - loss: 0.5235 - acc: 0.7669 - val_loss: 0.5361 - val_acc: 0.7544\n",
      "Epoch 74/10000\n",
      "12800/12800 [==============================] - 1s 53us/step - loss: 0.5215 - acc: 0.7670 - val_loss: 0.5358 - val_acc: 0.7553\n",
      "Epoch 75/10000\n",
      "12800/12800 [==============================] - 1s 52us/step - loss: 0.5231 - acc: 0.7673 - val_loss: 0.5356 - val_acc: 0.7541\n",
      "Epoch 76/10000\n",
      "12800/12800 [==============================] - 1s 48us/step - loss: 0.5219 - acc: 0.7663 - val_loss: 0.5360 - val_acc: 0.7541\n",
      "Epoch 77/10000\n",
      "12800/12800 [==============================] - 1s 50us/step - loss: 0.5217 - acc: 0.7660 - val_loss: 0.5360 - val_acc: 0.7541\n",
      "Epoch 78/10000\n",
      "12800/12800 [==============================] - 1s 52us/step - loss: 0.5231 - acc: 0.7663 - val_loss: 0.5358 - val_acc: 0.7541\n",
      "Epoch 79/10000\n",
      "12800/12800 [==============================] - 1s 53us/step - loss: 0.5221 - acc: 0.7670 - val_loss: 0.5353 - val_acc: 0.7547\n",
      "Epoch 80/10000\n",
      "12800/12800 [==============================] - 1s 52us/step - loss: 0.5215 - acc: 0.7663 - val_loss: 0.5352 - val_acc: 0.7547\n",
      "Epoch 81/10000\n",
      "12800/12800 [==============================] - 1s 53us/step - loss: 0.5217 - acc: 0.7665 - val_loss: 0.5349 - val_acc: 0.7544\n",
      "Epoch 82/10000\n",
      "12800/12800 [==============================] - 1s 51us/step - loss: 0.5208 - acc: 0.7666 - val_loss: 0.5352 - val_acc: 0.7544\n",
      "Epoch 83/10000\n",
      "12800/12800 [==============================] - 1s 54us/step - loss: 0.5217 - acc: 0.7666 - val_loss: 0.5348 - val_acc: 0.7544\n",
      "Epoch 84/10000\n",
      "12800/12800 [==============================] - 1s 53us/step - loss: 0.5207 - acc: 0.7666 - val_loss: 0.5344 - val_acc: 0.7544\n",
      "Epoch 85/10000\n",
      "12800/12800 [==============================] - 1s 52us/step - loss: 0.5188 - acc: 0.7670 - val_loss: 0.5348 - val_acc: 0.7544\n",
      "Epoch 86/10000\n",
      "12800/12800 [==============================] - 1s 46us/step - loss: 0.5225 - acc: 0.7657 - val_loss: 0.5348 - val_acc: 0.7544\n",
      "Epoch 87/10000\n",
      "12800/12800 [==============================] - 1s 49us/step - loss: 0.5216 - acc: 0.7667 - val_loss: 0.5343 - val_acc: 0.7544\n",
      "Epoch 88/10000\n",
      "12800/12800 [==============================] - 1s 52us/step - loss: 0.5190 - acc: 0.7670 - val_loss: 0.5343 - val_acc: 0.7547\n",
      "Epoch 89/10000\n",
      "12800/12800 [==============================] - 1s 54us/step - loss: 0.5211 - acc: 0.7666 - val_loss: 0.5345 - val_acc: 0.7550\n",
      "Epoch 90/10000\n",
      "12800/12800 [==============================] - 1s 52us/step - loss: 0.5216 - acc: 0.7659 - val_loss: 0.5345 - val_acc: 0.7553\n",
      "Epoch 91/10000\n",
      "12800/12800 [==============================] - 1s 49us/step - loss: 0.5176 - acc: 0.7659 - val_loss: 0.5335 - val_acc: 0.7556\n",
      "Epoch 92/10000\n",
      "12800/12800 [==============================] - 1s 53us/step - loss: 0.5199 - acc: 0.7659 - val_loss: 0.5345 - val_acc: 0.7553\n",
      "Epoch 93/10000\n",
      "12800/12800 [==============================] - 1s 50us/step - loss: 0.5206 - acc: 0.7660 - val_loss: 0.5340 - val_acc: 0.7556\n",
      "Epoch 94/10000\n",
      "12800/12800 [==============================] - 1s 51us/step - loss: 0.5188 - acc: 0.7665 - val_loss: 0.5338 - val_acc: 0.7553\n",
      "Epoch 95/10000\n",
      "12800/12800 [==============================] - 1s 50us/step - loss: 0.5198 - acc: 0.7664 - val_loss: 0.5336 - val_acc: 0.7550\n",
      "Epoch 96/10000\n",
      "12800/12800 [==============================] - 1s 50us/step - loss: 0.5228 - acc: 0.7660 - val_loss: 0.5342 - val_acc: 0.7550\n",
      "Epoch 97/10000\n",
      "12800/12800 [==============================] - 1s 53us/step - loss: 0.5163 - acc: 0.7666 - val_loss: 0.5333 - val_acc: 0.7553\n",
      "Epoch 98/10000\n",
      "12800/12800 [==============================] - 1s 53us/step - loss: 0.5191 - acc: 0.7662 - val_loss: 0.5330 - val_acc: 0.7553\n",
      "Epoch 99/10000\n",
      "12800/12800 [==============================] - 1s 51us/step - loss: 0.5172 - acc: 0.7667 - val_loss: 0.5330 - val_acc: 0.7553\n",
      "Epoch 100/10000\n",
      "12800/12800 [==============================] - 1s 50us/step - loss: 0.5190 - acc: 0.7662 - val_loss: 0.5332 - val_acc: 0.7550\n",
      "Epoch 101/10000\n",
      "12800/12800 [==============================] - 1s 48us/step - loss: 0.5169 - acc: 0.7677 - val_loss: 0.5325 - val_acc: 0.7550\n",
      "Epoch 102/10000\n",
      "12800/12800 [==============================] - 1s 52us/step - loss: 0.5171 - acc: 0.7670 - val_loss: 0.5329 - val_acc: 0.7550\n",
      "Epoch 103/10000\n",
      "12800/12800 [==============================] - 1s 56us/step - loss: 0.5188 - acc: 0.7663 - val_loss: 0.5325 - val_acc: 0.7556\n",
      "Epoch 104/10000\n",
      "12800/12800 [==============================] - 1s 52us/step - loss: 0.5180 - acc: 0.7661 - val_loss: 0.5325 - val_acc: 0.7556\n",
      "Epoch 105/10000\n",
      "12800/12800 [==============================] - 1s 53us/step - loss: 0.5175 - acc: 0.7670 - val_loss: 0.5328 - val_acc: 0.7556\n",
      "Epoch 106/10000\n",
      "12800/12800 [==============================] - 1s 55us/step - loss: 0.5165 - acc: 0.7668 - val_loss: 0.5328 - val_acc: 0.7556\n",
      "Epoch 107/10000\n",
      "12800/12800 [==============================] - 1s 52us/step - loss: 0.5173 - acc: 0.7676 - val_loss: 0.5328 - val_acc: 0.7553\n",
      "Epoch 108/10000\n",
      "12800/12800 [==============================] - 1s 51us/step - loss: 0.5168 - acc: 0.7663 - val_loss: 0.5323 - val_acc: 0.7553\n",
      "Epoch 109/10000\n",
      "12800/12800 [==============================] - 1s 51us/step - loss: 0.5175 - acc: 0.7666 - val_loss: 0.5327 - val_acc: 0.7553\n",
      "Epoch 110/10000\n",
      "12800/12800 [==============================] - 1s 51us/step - loss: 0.5187 - acc: 0.7659 - val_loss: 0.5329 - val_acc: 0.7553\n",
      "Epoch 111/10000\n",
      "12800/12800 [==============================] - 1s 51us/step - loss: 0.5171 - acc: 0.7673 - val_loss: 0.5329 - val_acc: 0.7553\n",
      "Epoch 112/10000\n",
      "12800/12800 [==============================] - 1s 55us/step - loss: 0.5169 - acc: 0.7663 - val_loss: 0.5323 - val_acc: 0.7553\n",
      "Epoch 113/10000\n",
      "12800/12800 [==============================] - 1s 52us/step - loss: 0.5169 - acc: 0.7666 - val_loss: 0.5323 - val_acc: 0.7553\n",
      "Epoch 114/10000\n",
      "12800/12800 [==============================] - 1s 49us/step - loss: 0.5159 - acc: 0.7671 - val_loss: 0.5326 - val_acc: 0.7553\n",
      "Epoch 115/10000\n"
     ]
    },
    {
     "name": "stdout",
     "output_type": "stream",
     "text": [
      "12800/12800 [==============================] - 1s 52us/step - loss: 0.5167 - acc: 0.7670 - val_loss: 0.5325 - val_acc: 0.7553\n",
      "Epoch 116/10000\n",
      " 7700/12800 [=================>............] - ETA: 0s - loss: 0.5156 - acc: 0.7669"
     ]
    }
   ],
   "source": [
    "history = model.fit(\n",
    "    X_train,\n",
    "    y_train, \n",
    "    validation_split=0.2,\n",
    "    batch_size=100, \n",
    "    epochs=10000,\n",
    "    callbacks=[early_stopping_monitor]\n",
    ")"
   ]
  },
  {
   "cell_type": "code",
   "execution_count": null,
   "metadata": {
    "ExecuteTime": {
     "start_time": "2019-06-09T08:51:53.384Z"
    }
   },
   "outputs": [],
   "source": [
    "plt.plot(history.history['acc'])\n",
    "plt.plot(history.history['val_acc'])\n",
    "plt.title('model accuracy')\n",
    "plt.ylabel('accuracy')\n",
    "plt.xlabel('epoch')\n",
    "plt.legend(['train', 'test'], loc='upper left')\n",
    "plt.show()"
   ]
  },
  {
   "cell_type": "code",
   "execution_count": null,
   "metadata": {},
   "outputs": [],
   "source": []
  }
 ],
 "metadata": {
  "kernelspec": {
   "display_name": "Python 3",
   "language": "python",
   "name": "python3"
  },
  "language_info": {
   "codemirror_mode": {
    "name": "ipython",
    "version": 3
   },
   "file_extension": ".py",
   "mimetype": "text/x-python",
   "name": "python",
   "nbconvert_exporter": "python",
   "pygments_lexer": "ipython3",
   "version": "3.6.8"
  },
  "varInspector": {
   "cols": {
    "lenName": 16,
    "lenType": 16,
    "lenVar": 40
   },
   "kernels_config": {
    "python": {
     "delete_cmd_postfix": "",
     "delete_cmd_prefix": "del ",
     "library": "var_list.py",
     "varRefreshCmd": "print(var_dic_list())"
    },
    "r": {
     "delete_cmd_postfix": ") ",
     "delete_cmd_prefix": "rm(",
     "library": "var_list.r",
     "varRefreshCmd": "cat(var_dic_list()) "
    }
   },
   "types_to_exclude": [
    "module",
    "function",
    "builtin_function_or_method",
    "instance",
    "_Feature"
   ],
   "window_display": false
  }
 },
 "nbformat": 4,
 "nbformat_minor": 2
}
