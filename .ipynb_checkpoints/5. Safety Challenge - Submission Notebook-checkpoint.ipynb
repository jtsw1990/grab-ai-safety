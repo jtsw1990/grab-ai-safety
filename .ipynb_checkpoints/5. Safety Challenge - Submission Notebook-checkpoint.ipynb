{
 "cells": [
  {
   "cell_type": "code",
   "execution_count": 1,
   "metadata": {
    "ExecuteTime": {
     "end_time": "2019-06-15T11:37:04.542683Z",
     "start_time": "2019-06-15T11:37:03.355909Z"
    }
   },
   "outputs": [],
   "source": [
    "import pandas as pd\n",
    "import numpy as np\n",
    "import matplotlib.pyplot as plt\n",
    "import dill as pickle\n",
    "\n",
    "from sklearn.model_selection import train_test_split, GridSearchCV, cross_val_score\n",
    "from sklearn.preprocessing import StandardScaler\n",
    "from sklearn.decomposition import PCA\n",
    "from sklearn.pipeline import Pipeline\n",
    "from sklearn.metrics import accuracy_score, roc_auc_score\n",
    "from sklearn.externals import joblib\n",
    "from sklearn.linear_model import LogisticRegression\n",
    "from sklearn.ensemble import RandomForestClassifier, GradientBoostingClassifier\n",
    "from sklearn import svm\n",
    "from sklearn.utils import resample\n",
    "from sklearn.externals import joblib\n",
    "import sklearn.metrics as metrics"
   ]
  },
  {
   "cell_type": "markdown",
   "metadata": {},
   "source": [
    "## Importing required functions\n",
    "- For data cleaning and feature extraction"
   ]
  },
  {
   "cell_type": "code",
   "execution_count": 2,
   "metadata": {
    "ExecuteTime": {
     "end_time": "2019-06-15T11:37:04.550869Z",
     "start_time": "2019-06-15T11:37:04.544722Z"
    }
   },
   "outputs": [],
   "source": [
    "clean_columns = pickle.load(open(\"outputs/functions/clean_columns.pickle\", \"rb\"))\n",
    "create_windows = pickle.load(open(\"outputs/functions/create_windows.pickle\", \"rb\"))\n",
    "extract_features = pickle.load(open(\"outputs/functions/extract_features.pickle\", \"rb\"))\n",
    "min_boundary = pickle.load(open(\"outputs/functions/min_boundary.pickle\", \"rb\"))\n",
    "max_boundary = pickle.load(open(\"outputs/functions/max_boundary.pickle\", \"rb\"))\n",
    "min_speed = pickle.load(open(\"outputs/functions/min_speed.pickle\", \"rb\"))\n",
    "max_speed = pickle.load(open(\"outputs/functions/max_speed.pickle\", \"rb\"))\n",
    "min_accuracy = pickle.load(open(\"outputs/functions/min_accuracy.pickle\", \"rb\"))\n",
    "max_accuracy = pickle.load(open(\"outputs/functions/max_accuracy.pickle\", \"rb\"))"
   ]
  },
  {
   "cell_type": "markdown",
   "metadata": {},
   "source": [
    "## Importing chosen model weights\n",
    "- Imported best classifier from previous notebook\n",
    "- Can assert to check"
   ]
  },
  {
   "cell_type": "code",
   "execution_count": 4,
   "metadata": {
    "ExecuteTime": {
     "end_time": "2019-06-15T11:37:18.452909Z",
     "start_time": "2019-06-15T11:37:18.407130Z"
    }
   },
   "outputs": [],
   "source": [
    "MODEL_PATH = \"outputs/models/Gradient Boosted Machine_0.72_286175.pkl\"\n",
    "model = joblib.load(MODEL_PATH)"
   ]
  },
  {
   "cell_type": "markdown",
   "metadata": {},
   "source": [
    "## Import Evaluation set\n",
    "- Assumes that evaluation set will come in the same format as provided features\n",
    "- Multiple .csv files\n",
    "- Currently testing with provided training data\n",
    "    - To replace with evaluation feature data"
   ]
  },
  {
   "cell_type": "code",
   "execution_count": 5,
   "metadata": {
    "ExecuteTime": {
     "end_time": "2019-06-15T11:37:19.369996Z",
     "start_time": "2019-06-15T11:37:19.367283Z"
    }
   },
   "outputs": [],
   "source": [
    "# To insert the path including file name for each .csv file in a list\n",
    "SOURCE_LIST = [\n",
    "    \"../grab-ai-safety-data/features/part-00001-e6120af0-10c2-4248-97c4-81baf4304e5c-c000.csv\",\n",
    "    \"../grab-ai-safety-data/features/part-00002-e6120af0-10c2-4248-97c4-81baf4304e5c-c000.csv\",\n",
    "    \"../grab-ai-safety-data/features/part-00003-e6120af0-10c2-4248-97c4-81baf4304e5c-c000.csv\"\n",
    "]\n"
   ]
  },
  {
   "cell_type": "code",
   "execution_count": 6,
   "metadata": {
    "ExecuteTime": {
     "end_time": "2019-06-15T11:37:28.359479Z",
     "start_time": "2019-06-15T11:37:19.767974Z"
    }
   },
   "outputs": [],
   "source": [
    "li = []\n",
    "for csv in SOURCE_LIST:\n",
    "    df = pd.read_csv(csv)\n",
    "    li.append(df)\n",
    "\n",
    "df = pd.concat(\n",
    "    li, \n",
    "    axis=0, \n",
    "    ignore_index=True\n",
    ")"
   ]
  },
  {
   "cell_type": "markdown",
   "metadata": {},
   "source": [
    "## Apply transformations"
   ]
  },
  {
   "cell_type": "code",
   "execution_count": 7,
   "metadata": {
    "ExecuteTime": {
     "end_time": "2019-06-15T11:38:28.224463Z",
     "start_time": "2019-06-15T11:38:04.063056Z"
    }
   },
   "outputs": [],
   "source": [
    "df = (\n",
    "    df.pipe(\n",
    "        clean_columns\n",
    "    ).pipe(\n",
    "        create_windows\n",
    "    ).pipe(\n",
    "        extract_features\n",
    "    )\n",
    ")"
   ]
  },
  {
   "cell_type": "markdown",
   "metadata": {},
   "source": [
    "## Predict using imported model"
   ]
  },
  {
   "cell_type": "code",
   "execution_count": 8,
   "metadata": {
    "ExecuteTime": {
     "end_time": "2019-06-15T11:38:32.250802Z",
     "start_time": "2019-06-15T11:38:32.095959Z"
    },
    "scrolled": true
   },
   "outputs": [],
   "source": [
    "preds = model.predict(df)"
   ]
  },
  {
   "cell_type": "markdown",
   "metadata": {},
   "source": [
    "## Export results to csv"
   ]
  },
  {
   "cell_type": "code",
   "execution_count": null,
   "metadata": {
    "ExecuteTime": {
     "end_time": "2019-06-15T11:37:04.687831Z",
     "start_time": "2019-06-15T11:37:03.352Z"
    }
   },
   "outputs": [],
   "source": [
    "# pd.to_csv(\"destination_path\", preds)"
   ]
  }
 ],
 "metadata": {
  "kernelspec": {
   "display_name": "Python 3",
   "language": "python",
   "name": "python3"
  },
  "language_info": {
   "codemirror_mode": {
    "name": "ipython",
    "version": 3
   },
   "file_extension": ".py",
   "mimetype": "text/x-python",
   "name": "python",
   "nbconvert_exporter": "python",
   "pygments_lexer": "ipython3",
   "version": "3.6.8"
  },
  "varInspector": {
   "cols": {
    "lenName": 16,
    "lenType": 16,
    "lenVar": 40
   },
   "kernels_config": {
    "python": {
     "delete_cmd_postfix": "",
     "delete_cmd_prefix": "del ",
     "library": "var_list.py",
     "varRefreshCmd": "print(var_dic_list())"
    },
    "r": {
     "delete_cmd_postfix": ") ",
     "delete_cmd_prefix": "rm(",
     "library": "var_list.r",
     "varRefreshCmd": "cat(var_dic_list()) "
    }
   },
   "types_to_exclude": [
    "module",
    "function",
    "builtin_function_or_method",
    "instance",
    "_Feature"
   ],
   "window_display": false
  }
 },
 "nbformat": 4,
 "nbformat_minor": 2
}
