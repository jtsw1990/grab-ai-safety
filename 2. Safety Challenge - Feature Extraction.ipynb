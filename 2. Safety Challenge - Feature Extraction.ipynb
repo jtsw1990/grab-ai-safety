{
 "cells": [
  {
   "cell_type": "markdown",
   "metadata": {},
   "source": [
    "## Read in combined cleaned dataset\n",
    "\n",
    "- Created intermediate notebook just to avoid reading in the csv every time feature adjustments are made\n",
    "- However, git cannot handle big data so it is currently saved into an external folder"
   ]
  },
  {
   "cell_type": "code",
   "execution_count": 1,
   "metadata": {
    "ExecuteTime": {
     "end_time": "2019-06-10T12:46:55.461397Z",
     "start_time": "2019-06-10T12:46:55.458457Z"
    }
   },
   "outputs": [],
   "source": [
    "import pandas as pd\n",
    "import numpy as np\n",
    "import pickle\n",
    "\n",
    "from sklearn.utils import resample"
   ]
  },
  {
   "cell_type": "code",
   "execution_count": 2,
   "metadata": {
    "ExecuteTime": {
     "end_time": "2019-06-10T12:12:05.090076Z",
     "start_time": "2019-06-10T12:12:02.260368Z"
    }
   },
   "outputs": [],
   "source": [
    "df = pd.read_pickle(\"../grab-ai-safety-data/df_full.pickle\")"
   ]
  },
  {
   "cell_type": "markdown",
   "metadata": {},
   "source": [
    "## Feature Extraction\n",
    "\n",
    "- To verify that euclidean distance can be applied to combine acceleration and gyro"
   ]
  },
  {
   "cell_type": "code",
   "execution_count": 3,
   "metadata": {
    "ExecuteTime": {
     "end_time": "2019-06-10T12:19:46.533106Z",
     "start_time": "2019-06-10T12:19:45.160742Z"
    }
   },
   "outputs": [],
   "source": [
    "# Acceleration and gyro features\n",
    "\n",
    "df[\"acceleration\"] = np.sqrt(\n",
    "    (df[\"acceleration_x\"] ** 2) + (df[\"acceleration_y\"] ** 2) + (df[\"acceleration_z\"] ** 2)\n",
    ")\n",
    "\n",
    "df[\"gyro\"] = np.sqrt(\n",
    "    (df[\"gyro_x\"] ** 2) + (df[\"gyro_y\"] ** 2) + (df[\"gyro_z\"] ** 2)\n",
    ")"
   ]
  },
  {
   "cell_type": "code",
   "execution_count": 4,
   "metadata": {
    "ExecuteTime": {
     "end_time": "2019-06-10T12:32:15.841431Z",
     "start_time": "2019-06-10T12:32:15.137542Z"
    }
   },
   "outputs": [],
   "source": [
    "# Differenced series to get a measure of distance and a change in bearing\n",
    "\n",
    "mask = df[\"bookingid\"] != df[\"bookingid\"].shift(1)\n",
    "df[\"duration_of_entry\"] = df[\"second\"].diff().fillna(0)\n",
    "df[\"change_in_bearing\"] = np.abs(df[\"bearing\"].diff().fillna(0))\n",
    "df.loc[ mask, [\"duration_of_entry\", \"change_in_bearing\"]] = 0\n",
    "df[\"distance_covered\"] = df[\"speed\"] * df[\"duration_of_entry\"]\n",
    "df[\"change_in_bearing_per_sec\"] = df[\"change_in_bearing\"] / df[\"duration_of_entry\"]"
   ]
  },
  {
   "cell_type": "code",
   "execution_count": 5,
   "metadata": {
    "ExecuteTime": {
     "end_time": "2019-06-10T12:43:17.854486Z",
     "start_time": "2019-06-10T12:43:06.262109Z"
    },
    "scrolled": true
   },
   "outputs": [],
   "source": [
    "df_grouped = df.groupby(\"bookingid\").agg(\n",
    "    {\n",
    "        \"second\" : [np.max],\n",
    "        \"distance_covered\" : [np.sum],\n",
    "        \"acceleration\" : [np.max, np.mean, lambda x: np.percentile(x, q=50), np.std],\n",
    "        \"gyro\" : [np.max, np.mean, lambda x: np.percentile(x, q=50), np.std],\n",
    "        \"speed\" : [np.max, np.mean, lambda x: np.percentile(x, q=50), np.std],\n",
    "        \"change_in_bearing_per_sec\" : [np.max, np.std],\n",
    "        \"label\" : [np.max]\n",
    "    }\n",
    ")\n",
    "\n",
    "df_grouped.columns = [\"_\".join(x) if x[0] != \"label\" else x[0] for x in df_grouped.columns.ravel()]"
   ]
  },
  {
   "cell_type": "markdown",
   "metadata": {},
   "source": [
    "## Resampling\n",
    "\n",
    "- Leaving this out for now as it may affect the results\n",
    "- Trying random forests sample weights instead"
   ]
  },
  {
   "cell_type": "code",
   "execution_count": 6,
   "metadata": {},
   "outputs": [],
   "source": [
    "df_majority = df_grouped[df_grouped[\"label\"] == 0]\n",
    "df_minority = df_grouped[df_grouped[\"label\"] == 1]\n",
    "\n",
    "df_minority_upsampled = resample(\n",
    "    df_minority,\n",
    "    replace=True,\n",
    "    n_samples=df_majority.count()[0],\n",
    "    random_state=42\n",
    ")\n",
    "\n",
    "df_grouped = pd.concat(\n",
    "    [df_majority, df_minority_upsampled]\n",
    ")"
   ]
  },
  {
   "cell_type": "code",
   "execution_count": 7,
   "metadata": {
    "ExecuteTime": {
     "end_time": "2019-06-10T12:48:06.256498Z",
     "start_time": "2019-06-10T12:48:06.247304Z"
    }
   },
   "outputs": [],
   "source": [
    "with open('outputs/df_grouped.pickle', 'wb') as f:\n",
    "    pickle.dump(df_grouped, f)"
   ]
  }
 ],
 "metadata": {
  "kernelspec": {
   "display_name": "Python 3",
   "language": "python",
   "name": "python3"
  },
  "language_info": {
   "codemirror_mode": {
    "name": "ipython",
    "version": 3
   },
   "file_extension": ".py",
   "mimetype": "text/x-python",
   "name": "python",
   "nbconvert_exporter": "python",
   "pygments_lexer": "ipython3",
   "version": "3.7.0"
  },
  "varInspector": {
   "cols": {
    "lenName": 16,
    "lenType": 16,
    "lenVar": 40
   },
   "kernels_config": {
    "python": {
     "delete_cmd_postfix": "",
     "delete_cmd_prefix": "del ",
     "library": "var_list.py",
     "varRefreshCmd": "print(var_dic_list())"
    },
    "r": {
     "delete_cmd_postfix": ") ",
     "delete_cmd_prefix": "rm(",
     "library": "var_list.r",
     "varRefreshCmd": "cat(var_dic_list()) "
    }
   },
   "types_to_exclude": [
    "module",
    "function",
    "builtin_function_or_method",
    "instance",
    "_Feature"
   ],
   "window_display": false
  }
 },
 "nbformat": 4,
 "nbformat_minor": 2
}
