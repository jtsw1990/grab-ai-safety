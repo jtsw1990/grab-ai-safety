{
 "cells": [
  {
   "cell_type": "code",
   "execution_count": 30,
   "metadata": {
    "ExecuteTime": {
     "end_time": "2019-06-09T04:51:24.489791Z",
     "start_time": "2019-06-09T04:51:24.460538Z"
    }
   },
   "outputs": [],
   "source": [
    "import pandas as pd\n",
    "import numpy as np\n",
    "import matplotlib.pyplot as plt\n",
    "import seaborn as sns"
   ]
  },
  {
   "cell_type": "code",
   "execution_count": 31,
   "metadata": {
    "ExecuteTime": {
     "end_time": "2019-06-09T04:51:29.890810Z",
     "start_time": "2019-06-09T04:51:24.866661Z"
    }
   },
   "outputs": [],
   "source": [
    "df = pd.read_pickle(\"outputs/df.pickle\")"
   ]
  },
  {
   "cell_type": "code",
   "execution_count": 32,
   "metadata": {
    "ExecuteTime": {
     "end_time": "2019-06-09T04:51:30.295224Z",
     "start_time": "2019-06-09T04:51:30.255226Z"
    }
   },
   "outputs": [
    {
     "data": {
      "text/html": [
       "<div>\n",
       "<style scoped>\n",
       "    .dataframe tbody tr th:only-of-type {\n",
       "        vertical-align: middle;\n",
       "    }\n",
       "\n",
       "    .dataframe tbody tr th {\n",
       "        vertical-align: top;\n",
       "    }\n",
       "\n",
       "    .dataframe thead th {\n",
       "        text-align: right;\n",
       "    }\n",
       "</style>\n",
       "<table border=\"1\" class=\"dataframe\">\n",
       "  <thead>\n",
       "    <tr style=\"text-align: right;\">\n",
       "      <th></th>\n",
       "      <th>bookingID</th>\n",
       "      <th>Accuracy</th>\n",
       "      <th>Bearing</th>\n",
       "      <th>acceleration_x</th>\n",
       "      <th>acceleration_y</th>\n",
       "      <th>acceleration_z</th>\n",
       "      <th>gyro_x</th>\n",
       "      <th>gyro_y</th>\n",
       "      <th>gyro_z</th>\n",
       "      <th>second</th>\n",
       "      <th>Speed</th>\n",
       "      <th>label</th>\n",
       "      <th>max_acceleration</th>\n",
       "      <th>max_gyro</th>\n",
       "      <th>Speed_abs</th>\n",
       "    </tr>\n",
       "  </thead>\n",
       "  <tbody>\n",
       "    <tr>\n",
       "      <th>0</th>\n",
       "      <td>1194000908341</td>\n",
       "      <td>4.000</td>\n",
       "      <td>203.000000</td>\n",
       "      <td>1.001973</td>\n",
       "      <td>9.745000</td>\n",
       "      <td>-0.790087</td>\n",
       "      <td>-0.066046</td>\n",
       "      <td>0.019175</td>\n",
       "      <td>0.044741</td>\n",
       "      <td>246.0</td>\n",
       "      <td>6.480000</td>\n",
       "      <td>1</td>\n",
       "      <td>9.745000</td>\n",
       "      <td>0.044741</td>\n",
       "      <td>6.480000</td>\n",
       "    </tr>\n",
       "    <tr>\n",
       "      <th>1</th>\n",
       "      <td>1099511627891</td>\n",
       "      <td>3.000</td>\n",
       "      <td>311.000000</td>\n",
       "      <td>0.452518</td>\n",
       "      <td>9.273026</td>\n",
       "      <td>3.098191</td>\n",
       "      <td>0.005382</td>\n",
       "      <td>0.002155</td>\n",
       "      <td>-0.001436</td>\n",
       "      <td>66.0</td>\n",
       "      <td>0.340365</td>\n",
       "      <td>0</td>\n",
       "      <td>9.273026</td>\n",
       "      <td>0.005382</td>\n",
       "      <td>0.340365</td>\n",
       "    </tr>\n",
       "    <tr>\n",
       "      <th>2</th>\n",
       "      <td>962072674446</td>\n",
       "      <td>10.000</td>\n",
       "      <td>142.807999</td>\n",
       "      <td>0.018542</td>\n",
       "      <td>-8.041156</td>\n",
       "      <td>-4.960114</td>\n",
       "      <td>0.004223</td>\n",
       "      <td>-0.014875</td>\n",
       "      <td>0.007397</td>\n",
       "      <td>1552.0</td>\n",
       "      <td>2.050000</td>\n",
       "      <td>0</td>\n",
       "      <td>0.018542</td>\n",
       "      <td>0.007397</td>\n",
       "      <td>2.050000</td>\n",
       "    </tr>\n",
       "    <tr>\n",
       "      <th>3</th>\n",
       "      <td>1142461300867</td>\n",
       "      <td>8.000</td>\n",
       "      <td>171.205292</td>\n",
       "      <td>-0.290698</td>\n",
       "      <td>-8.295367</td>\n",
       "      <td>-3.049042</td>\n",
       "      <td>0.033618</td>\n",
       "      <td>0.046224</td>\n",
       "      <td>0.030559</td>\n",
       "      <td>277.0</td>\n",
       "      <td>17.608448</td>\n",
       "      <td>0</td>\n",
       "      <td>-0.290698</td>\n",
       "      <td>0.046224</td>\n",
       "      <td>17.608448</td>\n",
       "    </tr>\n",
       "    <tr>\n",
       "      <th>4</th>\n",
       "      <td>412316860548</td>\n",
       "      <td>19.379</td>\n",
       "      <td>0.000000</td>\n",
       "      <td>0.675613</td>\n",
       "      <td>8.846130</td>\n",
       "      <td>1.852508</td>\n",
       "      <td>-0.008652</td>\n",
       "      <td>0.003693</td>\n",
       "      <td>0.001160</td>\n",
       "      <td>148.0</td>\n",
       "      <td>0.000000</td>\n",
       "      <td>0</td>\n",
       "      <td>8.846130</td>\n",
       "      <td>0.003693</td>\n",
       "      <td>0.000000</td>\n",
       "    </tr>\n",
       "  </tbody>\n",
       "</table>\n",
       "</div>"
      ],
      "text/plain": [
       "       bookingID  Accuracy     Bearing  acceleration_x  acceleration_y  \\\n",
       "0  1194000908341     4.000  203.000000        1.001973        9.745000   \n",
       "1  1099511627891     3.000  311.000000        0.452518        9.273026   \n",
       "2   962072674446    10.000  142.807999        0.018542       -8.041156   \n",
       "3  1142461300867     8.000  171.205292       -0.290698       -8.295367   \n",
       "4   412316860548    19.379    0.000000        0.675613        8.846130   \n",
       "\n",
       "   acceleration_z    gyro_x    gyro_y    gyro_z  second      Speed  label  \\\n",
       "0       -0.790087 -0.066046  0.019175  0.044741   246.0   6.480000      1   \n",
       "1        3.098191  0.005382  0.002155 -0.001436    66.0   0.340365      0   \n",
       "2       -4.960114  0.004223 -0.014875  0.007397  1552.0   2.050000      0   \n",
       "3       -3.049042  0.033618  0.046224  0.030559   277.0  17.608448      0   \n",
       "4        1.852508 -0.008652  0.003693  0.001160   148.0   0.000000      0   \n",
       "\n",
       "   max_acceleration  max_gyro  Speed_abs  \n",
       "0          9.745000  0.044741   6.480000  \n",
       "1          9.273026  0.005382   0.340365  \n",
       "2          0.018542  0.007397   2.050000  \n",
       "3         -0.290698  0.046224  17.608448  \n",
       "4          8.846130  0.003693   0.000000  "
      ]
     },
     "execution_count": 32,
     "metadata": {},
     "output_type": "execute_result"
    }
   ],
   "source": [
    "df.head()"
   ]
  },
  {
   "cell_type": "markdown",
   "metadata": {},
   "source": [
    "### Max acceleration"
   ]
  },
  {
   "cell_type": "code",
   "execution_count": 11,
   "metadata": {
    "ExecuteTime": {
     "end_time": "2019-06-08T17:22:42.229394Z",
     "start_time": "2019-06-08T17:22:34.018544Z"
    }
   },
   "outputs": [
    {
     "data": {
      "text/plain": [
       "<matplotlib.axes._subplots.AxesSubplot at 0x11ed5bcf8>"
      ]
     },
     "execution_count": 11,
     "metadata": {},
     "output_type": "execute_result"
    },
    {
     "data": {
      "image/png": "[encoded data removed]",
      "text/plain": [
       "<Figure size 1152x216 with 1 Axes>"
      ]
     },
     "metadata": {},
     "output_type": "display_data"
    }
   ],
   "source": [
    "plt.figure(figsize=(16, 3))\n",
    "sns.distplot(df.loc[df[\"label\"] == 0][\"max_acceleration\"])\n",
    "sns.distplot(df.loc[df[\"label\"] == 1][\"max_acceleration\"])"
   ]
  },
  {
   "cell_type": "markdown",
   "metadata": {},
   "source": [
    "### Max Gyro"
   ]
  },
  {
   "cell_type": "code",
   "execution_count": 13,
   "metadata": {
    "ExecuteTime": {
     "end_time": "2019-06-08T17:23:35.041970Z",
     "start_time": "2019-06-08T17:23:26.310481Z"
    }
   },
   "outputs": [
    {
     "data": {
      "text/plain": [
       "<matplotlib.axes._subplots.AxesSubplot at 0x11eeb29b0>"
      ]
     },
     "execution_count": 13,
     "metadata": {},
     "output_type": "execute_result"
    },
    {
     "data": {
      "image/png": "[encoded data removed]",
      "text/plain": [
       "<Figure size 1152x216 with 1 Axes>"
      ]
     },
     "metadata": {},
     "output_type": "display_data"
    }
   ],
   "source": [
    "plt.figure(figsize=(16, 3))\n",
    "sns.distplot(df.loc[df[\"label\"] == 0][\"max_gyro\"])\n",
    "sns.distplot(df.loc[df[\"label\"] == 1][\"max_gyro\"])"
   ]
  },
  {
   "cell_type": "markdown",
   "metadata": {},
   "source": [
    "## Mean speed"
   ]
  },
  {
   "cell_type": "code",
   "execution_count": 33,
   "metadata": {
    "ExecuteTime": {
     "end_time": "2019-06-09T04:54:03.914524Z",
     "start_time": "2019-06-09T04:54:00.031397Z"
    }
   },
   "outputs": [
    {
     "data": {
      "text/plain": [
       "<matplotlib.axes._subplots.AxesSubplot at 0x124a85240>"
      ]
     },
     "execution_count": 33,
     "metadata": {},
     "output_type": "execute_result"
    },
    {
     "data": {
      "image/png": "[encoded data removed]",
      "text/plain": [
       "<Figure size 1152x216 with 1 Axes>"
      ]
     },
     "metadata": {},
     "output_type": "display_data"
    }
   ],
   "source": [
    "speed_data = df.groupby(\"bookingID\").agg(\"mean\")[[\"Speed\", \"label\"]]\n",
    "plt.figure(figsize=(16, 3))\n",
    "sns.distplot(speed_data.loc[speed_data[\"label\"]== 0][\"Speed\"])\n",
    "sns.distplot(speed_data.loc[speed_data[\"label\"]== 1][\"Speed\"])"
   ]
  },
  {
   "cell_type": "markdown",
   "metadata": {},
   "source": [
    "### Bearing diff"
   ]
  },
  {
   "cell_type": "code",
   "execution_count": null,
   "metadata": {
    "ExecuteTime": {
     "start_time": "2019-06-09T05:28:50.918Z"
    }
   },
   "outputs": [],
   "source": [
    "df_sorted = df.sort_values([\"bookingID\", \"second\"])\n",
    "df_sorted[\"time_diffs\"] = df_sorted[\"second\"].diff()\n",
    "df_sorted[\"Bearing_diffs\"] = df_sorted[\"Bearing\"].diff()\n",
    "mask = df_sorted[\"bookingID\"] != df_sorted[\"bookingID\"].shift(1)\n",
    "df_sorted[\"time_diffs\"][mask] = 0\n",
    "df_sorted[\"Bearing_diffs\"][mask] = 0\n",
    "df_sorted[\"distance_covered\"] = df_sorted[\"Speed_abs\"] * df_sorted[\"time_diffs\"]\n",
    "df_sorted[\"Bearing_diffs\"] = np.abs(df_sorted[\"Bearing_diffs\"]) * df_sorted[\"Speed\"]"
   ]
  },
  {
   "cell_type": "code",
   "execution_count": null,
   "metadata": {
    "ExecuteTime": {
     "start_time": "2019-06-09T05:28:51.611Z"
    }
   },
   "outputs": [],
   "source": [
    "bearing_diff = df_sorted.groupby(\"bookingID\").agg(\"mean\")[[\"Bearing_diffs\", \"label\"]]\n",
    "plt.figure(figsize=(16, 3))\n",
    "sns.distplot(bearing_diff.loc[speed_data[\"label\"]== 0][\"Bearing_diffs\"])\n",
    "sns.distplot(bearing_diff.loc[speed_data[\"label\"]== 1][\"Bearing_diffs\"])"
   ]
  },
  {
   "cell_type": "code",
   "execution_count": null,
   "metadata": {},
   "outputs": [],
   "source": []
  },
  {
   "cell_type": "code",
   "execution_count": null,
   "metadata": {},
   "outputs": [],
   "source": []
  }
 ],
 "metadata": {
  "kernelspec": {
   "display_name": "Python 3",
   "language": "python",
   "name": "python3"
  },
  "language_info": {
   "codemirror_mode": {
    "name": "ipython",
    "version": 3
   },
   "file_extension": ".py",
   "mimetype": "text/x-python",
   "name": "python",
   "nbconvert_exporter": "python",
   "pygments_lexer": "ipython3",
   "version": "3.6.8"
  },
  "varInspector": {
   "cols": {
    "lenName": 16,
    "lenType": 16,
    "lenVar": 40
   },
   "kernels_config": {
    "python": {
     "delete_cmd_postfix": "",
     "delete_cmd_prefix": "del ",
     "library": "var_list.py",
     "varRefreshCmd": "print(var_dic_list())"
    },
    "r": {
     "delete_cmd_postfix": ") ",
     "delete_cmd_prefix": "rm(",
     "library": "var_list.r",
     "varRefreshCmd": "cat(var_dic_list()) "
    }
   },
   "types_to_exclude": [
    "module",
    "function",
    "builtin_function_or_method",
    "instance",
    "_Feature"
   ],
   "window_display": false
  }
 },
 "nbformat": 4,
 "nbformat_minor": 2
}
