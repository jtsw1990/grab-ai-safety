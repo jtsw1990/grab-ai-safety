{
 "cells": [
  {
   "cell_type": "code",
   "execution_count": 1,
   "metadata": {
    "ExecuteTime": {
     "end_time": "2019-06-11T14:25:44.901342Z",
     "start_time": "2019-06-11T14:25:43.703055Z"
    }
   },
   "outputs": [],
   "source": [
    "import pandas as pd\n",
    "import numpy as np\n",
    "import matplotlib.pyplot as plt\n",
    "import seaborn as sns"
   ]
  },
  {
   "cell_type": "code",
   "execution_count": 2,
   "metadata": {
    "ExecuteTime": {
     "end_time": "2019-06-11T14:25:47.617768Z",
     "start_time": "2019-06-11T14:25:44.922737Z"
    }
   },
   "outputs": [],
   "source": [
    "df = pd.read_pickle(\"../grab-ai-safety-data/df_full.pickle\")"
   ]
  },
  {
   "cell_type": "code",
   "execution_count": 4,
   "metadata": {
    "ExecuteTime": {
     "end_time": "2019-06-11T14:26:35.572805Z",
     "start_time": "2019-06-11T14:26:29.126496Z"
    }
   },
   "outputs": [
    {
     "data": {
      "text/html": [
       "<div>\n",
       "<style scoped>\n",
       "    .dataframe tbody tr th:only-of-type {\n",
       "        vertical-align: middle;\n",
       "    }\n",
       "\n",
       "    .dataframe tbody tr th {\n",
       "        vertical-align: top;\n",
       "    }\n",
       "\n",
       "    .dataframe thead th {\n",
       "        text-align: right;\n",
       "    }\n",
       "</style>\n",
       "<table border=\"1\" class=\"dataframe\">\n",
       "  <thead>\n",
       "    <tr style=\"text-align: right;\">\n",
       "      <th></th>\n",
       "      <th>bookingid</th>\n",
       "      <th>accuracy</th>\n",
       "      <th>bearing</th>\n",
       "      <th>acceleration_x</th>\n",
       "      <th>acceleration_y</th>\n",
       "      <th>acceleration_z</th>\n",
       "      <th>gyro_x</th>\n",
       "      <th>gyro_y</th>\n",
       "      <th>gyro_z</th>\n",
       "      <th>second</th>\n",
       "      <th>speed</th>\n",
       "      <th>label</th>\n",
       "    </tr>\n",
       "  </thead>\n",
       "  <tbody>\n",
       "    <tr>\n",
       "      <th>count</th>\n",
       "      <td>1.453895e+07</td>\n",
       "      <td>14538950.0</td>\n",
       "      <td>14538950.0</td>\n",
       "      <td>14538950.0</td>\n",
       "      <td>14538950.0</td>\n",
       "      <td>14538950.0</td>\n",
       "      <td>14538950.0</td>\n",
       "      <td>14538950.0</td>\n",
       "      <td>14538950.0</td>\n",
       "      <td>1.453895e+07</td>\n",
       "      <td>14538950.0</td>\n",
       "      <td>14538950.0</td>\n",
       "    </tr>\n",
       "    <tr>\n",
       "      <th>mean</th>\n",
       "      <td>8.185184e+11</td>\n",
       "      <td>12.0</td>\n",
       "      <td>169.0</td>\n",
       "      <td>0.0</td>\n",
       "      <td>4.0</td>\n",
       "      <td>1.0</td>\n",
       "      <td>-0.0</td>\n",
       "      <td>0.0</td>\n",
       "      <td>-0.0</td>\n",
       "      <td>3.687000e+03</td>\n",
       "      <td>9.0</td>\n",
       "      <td>0.0</td>\n",
       "    </tr>\n",
       "    <tr>\n",
       "      <th>std</th>\n",
       "      <td>4.953506e+11</td>\n",
       "      <td>87.0</td>\n",
       "      <td>107.0</td>\n",
       "      <td>1.0</td>\n",
       "      <td>8.0</td>\n",
       "      <td>3.0</td>\n",
       "      <td>0.0</td>\n",
       "      <td>0.0</td>\n",
       "      <td>0.0</td>\n",
       "      <td>1.414407e+06</td>\n",
       "      <td>8.0</td>\n",
       "      <td>0.0</td>\n",
       "    </tr>\n",
       "    <tr>\n",
       "      <th>min</th>\n",
       "      <td>0.000000e+00</td>\n",
       "      <td>1.0</td>\n",
       "      <td>0.0</td>\n",
       "      <td>-78.0</td>\n",
       "      <td>-73.0</td>\n",
       "      <td>-76.0</td>\n",
       "      <td>-48.0</td>\n",
       "      <td>-75.0</td>\n",
       "      <td>-37.0</td>\n",
       "      <td>0.000000e+00</td>\n",
       "      <td>-2.0</td>\n",
       "      <td>0.0</td>\n",
       "    </tr>\n",
       "    <tr>\n",
       "      <th>25%</th>\n",
       "      <td>3.779571e+11</td>\n",
       "      <td>4.0</td>\n",
       "      <td>78.0</td>\n",
       "      <td>-1.0</td>\n",
       "      <td>-2.0</td>\n",
       "      <td>-1.0</td>\n",
       "      <td>-0.0</td>\n",
       "      <td>-0.0</td>\n",
       "      <td>-0.0</td>\n",
       "      <td>2.410000e+02</td>\n",
       "      <td>1.0</td>\n",
       "      <td>0.0</td>\n",
       "    </tr>\n",
       "    <tr>\n",
       "      <th>50%</th>\n",
       "      <td>8.074539e+11</td>\n",
       "      <td>4.0</td>\n",
       "      <td>169.0</td>\n",
       "      <td>0.0</td>\n",
       "      <td>9.0</td>\n",
       "      <td>1.0</td>\n",
       "      <td>-0.0</td>\n",
       "      <td>0.0</td>\n",
       "      <td>-0.0</td>\n",
       "      <td>5.200000e+02</td>\n",
       "      <td>8.0</td>\n",
       "      <td>0.0</td>\n",
       "    </tr>\n",
       "    <tr>\n",
       "      <th>75%</th>\n",
       "      <td>1.254130e+12</td>\n",
       "      <td>8.0</td>\n",
       "      <td>263.0</td>\n",
       "      <td>1.0</td>\n",
       "      <td>10.0</td>\n",
       "      <td>3.0</td>\n",
       "      <td>0.0</td>\n",
       "      <td>0.0</td>\n",
       "      <td>0.0</td>\n",
       "      <td>8.630000e+02</td>\n",
       "      <td>15.0</td>\n",
       "      <td>1.0</td>\n",
       "    </tr>\n",
       "    <tr>\n",
       "      <th>max</th>\n",
       "      <td>1.709397e+12</td>\n",
       "      <td>6070.0</td>\n",
       "      <td>360.0</td>\n",
       "      <td>67.0</td>\n",
       "      <td>75.0</td>\n",
       "      <td>78.0</td>\n",
       "      <td>40.0</td>\n",
       "      <td>80.0</td>\n",
       "      <td>66.0</td>\n",
       "      <td>1.495797e+09</td>\n",
       "      <td>148.0</td>\n",
       "      <td>1.0</td>\n",
       "    </tr>\n",
       "  </tbody>\n",
       "</table>\n",
       "</div>"
      ],
      "text/plain": [
       "          bookingid    accuracy     bearing  acceleration_x  acceleration_y  \\\n",
       "count  1.453895e+07  14538950.0  14538950.0      14538950.0      14538950.0   \n",
       "mean   8.185184e+11        12.0       169.0             0.0             4.0   \n",
       "std    4.953506e+11        87.0       107.0             1.0             8.0   \n",
       "min    0.000000e+00         1.0         0.0           -78.0           -73.0   \n",
       "25%    3.779571e+11         4.0        78.0            -1.0            -2.0   \n",
       "50%    8.074539e+11         4.0       169.0             0.0             9.0   \n",
       "75%    1.254130e+12         8.0       263.0             1.0            10.0   \n",
       "max    1.709397e+12      6070.0       360.0            67.0            75.0   \n",
       "\n",
       "       acceleration_z      gyro_x      gyro_y      gyro_z        second  \\\n",
       "count      14538950.0  14538950.0  14538950.0  14538950.0  1.453895e+07   \n",
       "mean              1.0        -0.0         0.0        -0.0  3.687000e+03   \n",
       "std               3.0         0.0         0.0         0.0  1.414407e+06   \n",
       "min             -76.0       -48.0       -75.0       -37.0  0.000000e+00   \n",
       "25%              -1.0        -0.0        -0.0        -0.0  2.410000e+02   \n",
       "50%               1.0        -0.0         0.0        -0.0  5.200000e+02   \n",
       "75%               3.0         0.0         0.0         0.0  8.630000e+02   \n",
       "max              78.0        40.0        80.0        66.0  1.495797e+09   \n",
       "\n",
       "            speed       label  \n",
       "count  14538950.0  14538950.0  \n",
       "mean          9.0         0.0  \n",
       "std           8.0         0.0  \n",
       "min          -2.0         0.0  \n",
       "25%           1.0         0.0  \n",
       "50%           8.0         0.0  \n",
       "75%          15.0         1.0  \n",
       "max         148.0         1.0  "
      ]
     },
     "execution_count": 4,
     "metadata": {},
     "output_type": "execute_result"
    }
   ],
   "source": [
    "np.round(df.describe())"
   ]
  },
  {
   "cell_type": "code",
   "execution_count": null,
   "metadata": {
    "ExecuteTime": {
     "end_time": "2019-06-11T13:29:29.709355Z",
     "start_time": "2019-06-11T13:29:18.899533Z"
    }
   },
   "outputs": [],
   "source": [
    "mask = df[\"bookingid\"] != df[\"bookingid\"].shift(1)\n",
    "\n",
    "df[\"change_in_second\"] = df[\"second\"].diff().fillna(0)\n",
    "df[\"change_in_bearing\"] = np.abs(df[\"bearing\"].diff().fillna(0))\n",
    "df[\"change_in_speed\"] = np.abs(df[\"speed\"].diff().fillna(0))\n",
    "df[\"change_in_acx\"] = df[\"acceleration_x\"].diff().fillna(0)\n",
    "df[\"change_in_acy\"] = df[\"acceleration_y\"].diff().fillna(0)\n",
    "df[\"change_in_acz\"] = df[\"acceleration_z\"].diff().fillna(0)\n",
    "df[\"change_in_gyx\"] = df[\"gyro_x\"].diff().fillna(0)\n",
    "df[\"change_in_gyy\"] = df[\"gyro_y\"].diff().fillna(0)\n",
    "df[\"change_in_gyz\"] = df[\"gyro_z\"].diff().fillna(0)\n",
    "\n",
    "df.loc[ mask, [\n",
    "    \"change_in_second\", \n",
    "    \"change_in_bearing\",\n",
    "    \"change_in_speed\",\n",
    "    \"change_in_acx\",\n",
    "    \"change_in_acy\",\n",
    "    \"change_in_acz\",\n",
    "    \"change_in_gyx\",\n",
    "    \"change_in_gyy\",\n",
    "    \"change_in_gyz\"\n",
    "]] = 0"
   ]
  },
  {
   "cell_type": "markdown",
   "metadata": {},
   "source": [
    "## Duration of trip\n",
    "- This one is just obvious. Clear difference in average durations between safe and dangerous trips"
   ]
  },
  {
   "cell_type": "code",
   "execution_count": null,
   "metadata": {
    "ExecuteTime": {
     "end_time": "2019-06-11T12:07:20.144028Z",
     "start_time": "2019-06-11T12:07:19.867382Z"
    }
   },
   "outputs": [],
   "source": [
    "df.groupby(\"bookingid\").agg(\n",
    "    {\n",
    "        \"second\" : np.max,\n",
    "        \"label\" : np.max\n",
    "    }\n",
    ").groupby(\"label\").agg(\"mean\")"
   ]
  },
  {
   "cell_type": "markdown",
   "metadata": {},
   "source": [
    "## Distance of trip\n",
    "- There is a weird entry with a change in time at the last entry\n",
    "- Looks like there are 5 trips with ridiculous trip durations"
   ]
  },
  {
   "cell_type": "code",
   "execution_count": null,
   "metadata": {
    "ExecuteTime": {
     "end_time": "2019-06-11T13:36:21.722903Z",
     "start_time": "2019-06-11T13:36:13.919371Z"
    },
    "scrolled": true
   },
   "outputs": [],
   "source": [
    "df_dist = df.copy()\n",
    "df_dist[\"distance_covered\"] = df_dist[\"change_in_second\"] * df_dist[\"speed\"]\n",
    "df_dist.groupby(\"bookingid\").agg(\n",
    "    {\n",
    "        \"distance_covered\" : np.sum,\n",
    "        \"label\" : np.max\n",
    "    }\n",
    ").groupby(\"label\").mean()"
   ]
  },
  {
   "cell_type": "code",
   "execution_count": null,
   "metadata": {
    "ExecuteTime": {
     "end_time": "2019-06-11T13:57:33.109657Z",
     "start_time": "2019-06-11T13:57:33.089288Z"
    },
    "scrolled": true
   },
   "outputs": [],
   "source": [
    "df_dist.loc[df_dist[\"bookingid\"] == 1503238553722, :][list(df.columns)][\"second\"].max()"
   ]
  },
  {
   "cell_type": "code",
   "execution_count": null,
   "metadata": {
    "ExecuteTime": {
     "end_time": "2019-06-11T13:59:24.841324Z",
     "start_time": "2019-06-11T13:59:24.577431Z"
    }
   },
   "outputs": [],
   "source": [
    "duration_check = df_dist.groupby(\"bookingid\").agg(\n",
    "    {\n",
    "    \"second\" : np.max,\n",
    "    \"label\" : np.max\n",
    "    }\n",
    ")"
   ]
  },
  {
   "cell_type": "code",
   "execution_count": null,
   "metadata": {
    "ExecuteTime": {
     "end_time": "2019-06-11T14:18:29.213755Z",
     "start_time": "2019-06-11T14:18:29.203569Z"
    },
    "scrolled": true
   },
   "outputs": [],
   "source": [
    "duration_check.loc[duration_check[\"label\"] == 0, :] \\\n",
    "              .groupby(\"second\") \\\n",
    "              .count().sort_values(\"second\", ascending=False).reset_index()[\"second\"][1]"
   ]
  },
  {
   "cell_type": "markdown",
   "metadata": {
    "heading_collapsed": true
   },
   "source": [
    "## Acceleration\n",
    "- Let's try euclidean first to see if that works\n",
    "    - Mean of bookings, mean of label: no significant difference ~1% higher only\n",
    "    - Max of the bookings, mean of label: ~12% higher for dangerous trips"
   ]
  },
  {
   "cell_type": "code",
   "execution_count": null,
   "metadata": {
    "ExecuteTime": {
     "end_time": "2019-06-11T12:51:35.124578Z",
     "start_time": "2019-06-11T12:51:29.855397Z"
    },
    "hidden": true,
    "scrolled": true
   },
   "outputs": [],
   "source": [
    "df_acc = df.copy()\n",
    "df_acc[\"acceleration\"] = np.sqrt(\n",
    "    (df_acc[\"acceleration_x\"] ** 2) + (df_acc[\"acceleration_y\"] ** 2) + (df_acc[\"acceleration_z\"] ** 2)\n",
    ")\n",
    "test = df_acc.groupby(\"bookingid\").agg(\n",
    "    {\n",
    "        \"acceleration\" : [np.max, np.mean],\n",
    "        \"label\" : [np.max]\n",
    "    }\n",
    ")\n",
    "test.columns = test.columns.get_level_values(0)\n",
    "test.groupby(\"label\").agg(\"mean\")"
   ]
  },
  {
   "cell_type": "markdown",
   "metadata": {
    "heading_collapsed": true
   },
   "source": [
    "## Gyro\n",
    "- Same technique with gyro to see\n",
    "    - Max of bookings, mean of label: ~47% higher for dangerous trips\n",
    "    - Mean of bookings, mean of label: ~36% higher for dangerous trips"
   ]
  },
  {
   "cell_type": "code",
   "execution_count": null,
   "metadata": {
    "ExecuteTime": {
     "end_time": "2019-06-11T12:57:19.280458Z",
     "start_time": "2019-06-11T12:57:12.573933Z"
    },
    "hidden": true
   },
   "outputs": [],
   "source": [
    "df_gyro = df.copy()\n",
    "df_gyro[\"gyro\"] = np.sqrt(\n",
    "    (df_gyro[\"gyro_x\"] ** 2) + (df_gyro[\"gyro_y\"] ** 2) + (df_gyro[\"gyro_z\"] ** 2)\n",
    ")\n",
    "test = df_gyro.groupby(\"bookingid\").agg(\n",
    "    {\n",
    "        \"gyro\" : [np.max, np.mean],\n",
    "        \"label\" : [np.max]\n",
    "    }\n",
    ")\n",
    "test.columns = test.columns.get_level_values(0)\n",
    "test.groupby(\"label\").agg(\"mean\")"
   ]
  },
  {
   "cell_type": "markdown",
   "metadata": {
    "heading_collapsed": true
   },
   "source": [
    "## Speed\n",
    "- More variations for speed\n",
    "    - Max of bookings, mean of label: 5% higher for dangerous trips\n",
    "    - Mean of bookings, mean of label: 10% lower for dangerous trips"
   ]
  },
  {
   "cell_type": "code",
   "execution_count": null,
   "metadata": {
    "ExecuteTime": {
     "end_time": "2019-06-11T13:05:56.220860Z",
     "start_time": "2019-06-11T13:05:52.049893Z"
    },
    "hidden": true
   },
   "outputs": [],
   "source": [
    "df_spd = df.copy()\n",
    "test = df_spd.groupby(\"bookingid\").agg(\n",
    "    {\n",
    "        \"speed\" : [np.max, np.mean],\n",
    "        \"label\" : [np.max]\n",
    "    }\n",
    ")\n",
    "test.columns = test.columns.get_level_values(0)\n",
    "test.groupby(\"label\").agg(\"mean\")"
   ]
  },
  {
   "cell_type": "markdown",
   "metadata": {
    "heading_collapsed": true
   },
   "source": [
    "## Bearing\n",
    "- Change in bearing?"
   ]
  },
  {
   "cell_type": "code",
   "execution_count": null,
   "metadata": {
    "hidden": true
   },
   "outputs": [],
   "source": []
  }
 ],
 "metadata": {
  "kernelspec": {
   "display_name": "Python 3",
   "language": "python",
   "name": "python3"
  },
  "language_info": {
   "codemirror_mode": {
    "name": "ipython",
    "version": 3
   },
   "file_extension": ".py",
   "mimetype": "text/x-python",
   "name": "python",
   "nbconvert_exporter": "python",
   "pygments_lexer": "ipython3",
   "version": "3.6.8"
  },
  "varInspector": {
   "cols": {
    "lenName": 16,
    "lenType": 16,
    "lenVar": 40
   },
   "kernels_config": {
    "python": {
     "delete_cmd_postfix": "",
     "delete_cmd_prefix": "del ",
     "library": "var_list.py",
     "varRefreshCmd": "print(var_dic_list())"
    },
    "r": {
     "delete_cmd_postfix": ") ",
     "delete_cmd_prefix": "rm(",
     "library": "var_list.r",
     "varRefreshCmd": "cat(var_dic_list()) "
    }
   },
   "types_to_exclude": [
    "module",
    "function",
    "builtin_function_or_method",
    "instance",
    "_Feature"
   ],
   "window_display": false
  }
 },
 "nbformat": 4,
 "nbformat_minor": 2
}
