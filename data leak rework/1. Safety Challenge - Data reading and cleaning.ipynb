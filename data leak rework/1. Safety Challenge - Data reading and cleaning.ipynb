{
 "cells": [
  {
   "cell_type": "markdown",
   "metadata": {},
   "source": [
    "## Download and extract zip from web\n",
    "\n",
    "- Specifies the source link, destination url and file name to download and extract data files\n",
    "- Currently reading from external folder as github does not support large files\n",
    "    - To rerun function for testing before submission\n",
    "    - To add checks and conditions for the function\n",
    "- Link to zip download here: \"https://s3-ap-southeast-1.amazonaws.com/grab-aiforsea-dataset/safety.zip\" "
   ]
  },
  {
   "cell_type": "code",
   "execution_count": 1,
   "metadata": {
    "ExecuteTime": {
     "end_time": "2019-06-14T13:10:01.677684Z",
     "start_time": "2019-06-14T13:10:01.124015Z"
    }
   },
   "outputs": [],
   "source": [
    "import zipfile\n",
    "import urllib.request\n",
    "import pandas as pd\n",
    "import numpy as np\n",
    "import pickle\n",
    "from tqdm import tqdm"
   ]
  },
  {
   "cell_type": "code",
   "execution_count": 2,
   "metadata": {
    "ExecuteTime": {
     "end_time": "2019-06-14T13:10:01.683784Z",
     "start_time": "2019-06-14T13:10:01.680117Z"
    }
   },
   "outputs": [],
   "source": [
    "SOURCE = \"https://s3-ap-southeast-1.amazonaws.com/grab-aiforsea-dataset/safety.zip\"\n",
    "OUTPUT_PATH = \"/Users/jiayihuang/Desktop/Jtsw/grab-ai-safety/data\"\n",
    "FILE_NAME = \"\""
   ]
  },
  {
   "cell_type": "code",
   "execution_count": 3,
   "metadata": {
    "ExecuteTime": {
     "end_time": "2019-06-14T13:10:01.694356Z",
     "start_time": "2019-06-14T13:10:01.686895Z"
    }
   },
   "outputs": [],
   "source": [
    "class DownloadProgressBar(tqdm):\n",
    "    '''Class for tqdm progress bar.'''\n",
    "    def update_to(self, b=1, bsize=1, tsize=None):\n",
    "        if tsize is not None:\n",
    "            self.total = tsize\n",
    "        self.update(b * bsize - self.n)\n",
    "\n",
    "\n",
    "def maybe_download(url, output_path, dest_file_name):\n",
    "    '''Function that checks the validity of a desired URL,\n",
    "    downloads and extracts a ZIP file for the purposes of\n",
    "    the Grab AI challenge.\n",
    "    \n",
    "    Args:\n",
    "    url (str): Download path of the dataset in question\n",
    "    output_path(str): path of the desired download destination\n",
    "    dest_file_name(str): Desired file name. \n",
    "    To include .zip extension\n",
    "    \n",
    "    Returns:\n",
    "    None.\n",
    "    Extracts all relevant data files into a desired folder for\n",
    "    download.\n",
    "    '''\n",
    "    full_path = output_path+'/'+dest_file_name\n",
    "    with DownloadProgressBar(\n",
    "        unit='B', \n",
    "        unit_scale=True,\n",
    "        miniters=1, \n",
    "        desc=url.split(\"/\")[-1]\n",
    "    ) as t:\n",
    "        urllib.request.urlretrieve(\n",
    "            url, \n",
    "            filename=full_path, \n",
    "            reporthook=t.update_to\n",
    "        )\n",
    "    with zipfile.ZipFile(full_path, \"r\") as zip_ref:\n",
    "        zip_ref.extractall(output_path)"
   ]
  },
  {
   "cell_type": "code",
   "execution_count": 4,
   "metadata": {
    "ExecuteTime": {
     "end_time": "2019-06-14T13:10:01.699303Z",
     "start_time": "2019-06-14T13:10:01.696851Z"
    }
   },
   "outputs": [],
   "source": [
    "# download_url(SOURCE, OUTPUT_PATH, FILE_NAME)"
   ]
  },
  {
   "cell_type": "code",
   "execution_count": 5,
   "metadata": {
    "ExecuteTime": {
     "end_time": "2019-06-14T13:10:30.600921Z",
     "start_time": "2019-06-14T13:10:01.701252Z"
    }
   },
   "outputs": [],
   "source": [
    "df0 = pd.read_csv(\"../../grab-ai-safety-data/features/part-00000-e6120af0-10c2-4248-97c4-81baf4304e5c-c000.csv\")\n",
    "df1 = pd.read_csv(\"../../grab-ai-safety-data/features/part-00001-e6120af0-10c2-4248-97c4-81baf4304e5c-c000.csv\")\n",
    "df2 = pd.read_csv(\"../../grab-ai-safety-data/features/part-00002-e6120af0-10c2-4248-97c4-81baf4304e5c-c000.csv\")\n",
    "df3 = pd.read_csv(\"../../grab-ai-safety-data/features/part-00003-e6120af0-10c2-4248-97c4-81baf4304e5c-c000.csv\")\n",
    "df4 = pd.read_csv(\"../../grab-ai-safety-data/features/part-00004-e6120af0-10c2-4248-97c4-81baf4304e5c-c000.csv\")\n",
    "df5 = pd.read_csv(\"../../grab-ai-safety-data/features/part-00005-e6120af0-10c2-4248-97c4-81baf4304e5c-c000.csv\")\n",
    "df6 = pd.read_csv(\"../../grab-ai-safety-data/features/part-00006-e6120af0-10c2-4248-97c4-81baf4304e5c-c000.csv\")\n",
    "df7 = pd.read_csv(\"../../grab-ai-safety-data/features/part-00007-e6120af0-10c2-4248-97c4-81baf4304e5c-c000.csv\")\n",
    "df8 = pd.read_csv(\"../../grab-ai-safety-data/features/part-00008-e6120af0-10c2-4248-97c4-81baf4304e5c-c000.csv\")\n",
    "df9 = pd.read_csv(\"../../grab-ai-safety-data/features/part-00009-e6120af0-10c2-4248-97c4-81baf4304e5c-c000.csv\")\n",
    "response = pd.read_csv(\"../../grab-ai-safety-data/labels/part-00000-e9445087-aa0a-433b-a7f6-7f4c19d78ad6-c000.csv\")"
   ]
  },
  {
   "cell_type": "markdown",
   "metadata": {},
   "source": [
    "## Merge and drop duplicates\n",
    "- Join the feautres together with the labels\n",
    "- Get rid of any obvious duplicates in the features and response\n",
    "- No data cleaning or formatting to minimize data leakage"
   ]
  },
  {
   "cell_type": "code",
   "execution_count": 6,
   "metadata": {
    "ExecuteTime": {
     "end_time": "2019-06-14T13:11:10.132947Z",
     "start_time": "2019-06-14T13:10:30.603232Z"
    }
   },
   "outputs": [],
   "source": [
    "df_features = pd.concat(\n",
    "    [df1, df2, df3, df4, df5, df6, df7, df8, df9], \n",
    "    axis=0\n",
    ").drop_duplicates(\n",
    "    keep=False\n",
    ")\n",
    "\n",
    "response = response.drop_duplicates(\n",
    "    subset=\"bookingID\", \n",
    "    keep=False\n",
    ")"
   ]
  },
  {
   "cell_type": "code",
   "execution_count": 7,
   "metadata": {
    "ExecuteTime": {
     "end_time": "2019-06-14T13:11:23.707416Z",
     "start_time": "2019-06-14T13:11:10.135159Z"
    }
   },
   "outputs": [],
   "source": [
    "df = pd.merge(\n",
    "    df_features,\n",
    "    response,\n",
    "    how=\"inner\",\n",
    "    on=\"bookingID\"\n",
    ").sort_values(\n",
    "    [\"bookingID\", \"second\"],\n",
    "    ascending=True\n",
    ")"
   ]
  },
  {
   "cell_type": "code",
   "execution_count": 8,
   "metadata": {
    "ExecuteTime": {
     "end_time": "2019-06-14T13:11:27.976241Z",
     "start_time": "2019-06-14T13:11:23.709200Z"
    },
    "scrolled": true
   },
   "outputs": [],
   "source": [
    "with open('../../grab-ai-safety-data/df_full.pickle', 'wb') as f:\n",
    "    pickle.dump(df, f)"
   ]
  }
 ],
 "metadata": {
  "kernelspec": {
   "display_name": "Python 3",
   "language": "python",
   "name": "python3"
  },
  "language_info": {
   "codemirror_mode": {
    "name": "ipython",
    "version": 3
   },
   "file_extension": ".py",
   "mimetype": "text/x-python",
   "name": "python",
   "nbconvert_exporter": "python",
   "pygments_lexer": "ipython3",
   "version": "3.7.0"
  },
  "varInspector": {
   "cols": {
    "lenName": 16,
    "lenType": 16,
    "lenVar": 40
   },
   "kernels_config": {
    "python": {
     "delete_cmd_postfix": "",
     "delete_cmd_prefix": "del ",
     "library": "var_list.py",
     "varRefreshCmd": "print(var_dic_list())"
    },
    "r": {
     "delete_cmd_postfix": ") ",
     "delete_cmd_prefix": "rm(",
     "library": "var_list.r",
     "varRefreshCmd": "cat(var_dic_list()) "
    }
   },
   "types_to_exclude": [
    "module",
    "function",
    "builtin_function_or_method",
    "instance",
    "_Feature"
   ],
   "window_display": false
  }
 },
 "nbformat": 4,
 "nbformat_minor": 2
}
