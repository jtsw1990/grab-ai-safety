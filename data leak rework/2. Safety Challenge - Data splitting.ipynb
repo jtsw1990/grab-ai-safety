{
 "cells": [
  {
   "cell_type": "code",
   "execution_count": 1,
   "metadata": {
    "ExecuteTime": {
     "end_time": "2019-06-14T14:47:15.218943Z",
     "start_time": "2019-06-14T14:47:13.684107Z"
    }
   },
   "outputs": [],
   "source": [
    "import pandas as pd\n",
    "import numpy as np\n",
    "import pickle\n",
    "\n",
    "from sklearn.model_selection import GroupShuffleSplit\n",
    "from sklearn.utils import resample"
   ]
  },
  {
   "cell_type": "code",
   "execution_count": 2,
   "metadata": {
    "ExecuteTime": {
     "end_time": "2019-06-14T14:47:17.868513Z",
     "start_time": "2019-06-14T14:47:15.221180Z"
    }
   },
   "outputs": [],
   "source": [
    "df = pd.read_pickle(\"../../grab-ai-safety-data/df_full.pickle\")"
   ]
  },
  {
   "cell_type": "markdown",
   "metadata": {},
   "source": [
    "## Manual grouped data split\n",
    "- Not logical to use train_test_split on the raw feature matrix as the data is always has pretty consistent timings and train_test_split will just randomly remove time stamps from each booking.\n",
    "    - A more manual approach is taken to counter this effect\n",
    "    - Use GroupShuffleSplit to split data on booking ID\n",
    "    - Then check the that the class proportions are the same between training and testing sets\n",
    "- Split is done first to minimize any data leakage to produce unbiased and usable production models."
   ]
  },
  {
   "cell_type": "code",
   "execution_count": 3,
   "metadata": {
    "ExecuteTime": {
     "end_time": "2019-06-14T14:47:19.745559Z",
     "start_time": "2019-06-14T14:47:17.870489Z"
    }
   },
   "outputs": [],
   "source": [
    "train_idx, test_idx = next(\n",
    "    GroupShuffleSplit(\n",
    "        test_size=0.2, \n",
    "        n_splits=2, \n",
    "        random_state = 42\n",
    "    ).split(\n",
    "        df, \n",
    "        groups=df[\"bookingID\"]\n",
    "    )\n",
    ")"
   ]
  },
  {
   "cell_type": "code",
   "execution_count": 4,
   "metadata": {
    "ExecuteTime": {
     "end_time": "2019-06-14T14:47:22.928095Z",
     "start_time": "2019-06-14T14:47:19.747426Z"
    }
   },
   "outputs": [],
   "source": [
    "X_train = df.iloc[train_idx, :-1]\n",
    "X_test = df.iloc[test_idx, :-1]\n",
    "y_train = df.iloc[train_idx, [0, -1]]\n",
    "y_test = df.iloc[test_idx, [0, -1]]"
   ]
  },
  {
   "cell_type": "code",
   "execution_count": 7,
   "metadata": {
    "ExecuteTime": {
     "end_time": "2019-06-14T14:47:51.007470Z",
     "start_time": "2019-06-14T14:47:51.005110Z"
    },
    "scrolled": true
   },
   "outputs": [],
   "source": [
    "# pd.concat([X_train, y_train], axis=1).groupby(\"bookingID\").max().groupby(\"label\").count()"
   ]
  },
  {
   "cell_type": "code",
   "execution_count": 8,
   "metadata": {
    "ExecuteTime": {
     "end_time": "2019-06-14T14:47:51.160163Z",
     "start_time": "2019-06-14T14:47:51.157237Z"
    }
   },
   "outputs": [],
   "source": [
    "# pd.concat([X_test, y_test], axis=1).groupby(\"bookingID\").max().groupby(\"label\").count()"
   ]
  },
  {
   "cell_type": "code",
   "execution_count": 9,
   "metadata": {
    "ExecuteTime": {
     "end_time": "2019-06-14T14:47:57.981209Z",
     "start_time": "2019-06-14T14:47:51.324361Z"
    }
   },
   "outputs": [],
   "source": [
    "with open('../../grab-ai-safety-data/X_train.pickle', 'wb') as f:\n",
    "    pickle.dump(X_train, f)\n",
    "with open('../../grab-ai-safety-data/y_train.pickle', 'wb') as f:\n",
    "    pickle.dump(y_train, f)\n",
    "with open('../../grab-ai-safety-data/X_test.pickle', 'wb') as f:\n",
    "    pickle.dump(X_test, f)\n",
    "with open('../../grab-ai-safety-data/y_test.pickle', 'wb') as f:\n",
    "    pickle.dump(y_test, f)"
   ]
  }
 ],
 "metadata": {
  "kernelspec": {
   "display_name": "Python 3",
   "language": "python",
   "name": "python3"
  },
  "language_info": {
   "codemirror_mode": {
    "name": "ipython",
    "version": 3
   },
   "file_extension": ".py",
   "mimetype": "text/x-python",
   "name": "python",
   "nbconvert_exporter": "python",
   "pygments_lexer": "ipython3",
   "version": "3.6.8"
  },
  "varInspector": {
   "cols": {
    "lenName": 16,
    "lenType": 16,
    "lenVar": 40
   },
   "kernels_config": {
    "python": {
     "delete_cmd_postfix": "",
     "delete_cmd_prefix": "del ",
     "library": "var_list.py",
     "varRefreshCmd": "print(var_dic_list())"
    },
    "r": {
     "delete_cmd_postfix": ") ",
     "delete_cmd_prefix": "rm(",
     "library": "var_list.r",
     "varRefreshCmd": "cat(var_dic_list()) "
    }
   },
   "types_to_exclude": [
    "module",
    "function",
    "builtin_function_or_method",
    "instance",
    "_Feature"
   ],
   "window_display": false
  }
 },
 "nbformat": 4,
 "nbformat_minor": 2
}
