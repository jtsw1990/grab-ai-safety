{
 "cells": [
  {
   "cell_type": "code",
   "execution_count": 5,
   "metadata": {
    "ExecuteTime": {
     "end_time": "2019-06-14T07:12:13.805025Z",
     "start_time": "2019-06-14T07:12:13.588023Z"
    }
   },
   "outputs": [],
   "source": [
    "import pandas as pd\n",
    "import numpy as np\n",
    "import pickle\n",
    "\n",
    "from sklearn.model_selection import GroupShuffleSplit\n",
    "from sklearn.utils import resample"
   ]
  },
  {
   "cell_type": "code",
   "execution_count": 3,
   "metadata": {
    "ExecuteTime": {
     "end_time": "2019-06-14T07:08:44.129561Z",
     "start_time": "2019-06-14T07:08:42.705505Z"
    }
   },
   "outputs": [],
   "source": [
    "df = pd.read_pickle(\"../../grab-ai-safety-data/df_full.pickle\")"
   ]
  },
  {
   "cell_type": "markdown",
   "metadata": {},
   "source": [
    "## Manual grouped data split\n",
    "- Not logical to use train_test_split on the raw feature matrix as the data is always has pretty consistent timings and train_test_split will just randomly remove time stamps from each booking.\n",
    "    - A more manual approach is taken to counter this effect\n",
    "    - Use GroupShuffleSplit to split data on booking ID\n",
    "    - Then check the that the class proportions are the same between training and testing sets\n",
    "- Split is done first to minimize any data leakage to produce unbiased and usable production models."
   ]
  },
  {
   "cell_type": "code",
   "execution_count": 16,
   "metadata": {
    "ExecuteTime": {
     "end_time": "2019-06-14T07:16:25.284603Z",
     "start_time": "2019-06-14T07:16:23.093607Z"
    }
   },
   "outputs": [],
   "source": [
    "train_idx, test_idx = next(\n",
    "    GroupShuffleSplit(\n",
    "        test_size=0.2, \n",
    "        n_splits=2, \n",
    "        random_state = 42\n",
    "    ).split(\n",
    "        df, \n",
    "        groups=df['bookingid']\n",
    "    )\n",
    ")"
   ]
  },
  {
   "cell_type": "code",
   "execution_count": 17,
   "metadata": {
    "ExecuteTime": {
     "end_time": "2019-06-14T07:16:27.293613Z",
     "start_time": "2019-06-14T07:16:25.324560Z"
    }
   },
   "outputs": [],
   "source": [
    "X_train = df.iloc[train_idx, :-1]\n",
    "X_test = df.iloc[test_idx, :-1]\n",
    "y_train = df.iloc[train_idx, -1]\n",
    "y_test = df.iloc[test_idx, -1]"
   ]
  },
  {
   "cell_type": "code",
   "execution_count": 30,
   "metadata": {
    "ExecuteTime": {
     "end_time": "2019-06-14T07:22:27.014314Z",
     "start_time": "2019-06-14T07:22:25.027321Z"
    },
    "scrolled": true
   },
   "outputs": [
    {
     "data": {
      "text/html": [
       "<div>\n",
       "<style scoped>\n",
       "    .dataframe tbody tr th:only-of-type {\n",
       "        vertical-align: middle;\n",
       "    }\n",
       "\n",
       "    .dataframe tbody tr th {\n",
       "        vertical-align: top;\n",
       "    }\n",
       "\n",
       "    .dataframe thead th {\n",
       "        text-align: right;\n",
       "    }\n",
       "</style>\n",
       "<table border=\"1\" class=\"dataframe\">\n",
       "  <thead>\n",
       "    <tr style=\"text-align: right;\">\n",
       "      <th></th>\n",
       "      <th>accuracy</th>\n",
       "      <th>bearing</th>\n",
       "      <th>acceleration_x</th>\n",
       "      <th>acceleration_y</th>\n",
       "      <th>acceleration_z</th>\n",
       "      <th>gyro_x</th>\n",
       "      <th>gyro_y</th>\n",
       "      <th>gyro_z</th>\n",
       "      <th>second</th>\n",
       "      <th>speed</th>\n",
       "    </tr>\n",
       "    <tr>\n",
       "      <th>label</th>\n",
       "      <th></th>\n",
       "      <th></th>\n",
       "      <th></th>\n",
       "      <th></th>\n",
       "      <th></th>\n",
       "      <th></th>\n",
       "      <th></th>\n",
       "      <th></th>\n",
       "      <th></th>\n",
       "      <th></th>\n",
       "    </tr>\n",
       "  </thead>\n",
       "  <tbody>\n",
       "    <tr>\n",
       "      <th>0</th>\n",
       "      <td>12004</td>\n",
       "      <td>12004</td>\n",
       "      <td>12004</td>\n",
       "      <td>12004</td>\n",
       "      <td>12004</td>\n",
       "      <td>12004</td>\n",
       "      <td>12004</td>\n",
       "      <td>12004</td>\n",
       "      <td>12004</td>\n",
       "      <td>12004</td>\n",
       "    </tr>\n",
       "    <tr>\n",
       "      <th>1</th>\n",
       "      <td>3981</td>\n",
       "      <td>3981</td>\n",
       "      <td>3981</td>\n",
       "      <td>3981</td>\n",
       "      <td>3981</td>\n",
       "      <td>3981</td>\n",
       "      <td>3981</td>\n",
       "      <td>3981</td>\n",
       "      <td>3981</td>\n",
       "      <td>3981</td>\n",
       "    </tr>\n",
       "  </tbody>\n",
       "</table>\n",
       "</div>"
      ],
      "text/plain": [
       "       accuracy  bearing  acceleration_x  acceleration_y  acceleration_z  \\\n",
       "label                                                                      \n",
       "0         12004    12004           12004           12004           12004   \n",
       "1          3981     3981            3981            3981            3981   \n",
       "\n",
       "       gyro_x  gyro_y  gyro_z  second  speed  \n",
       "label                                         \n",
       "0       12004   12004   12004   12004  12004  \n",
       "1        3981    3981    3981    3981   3981  "
      ]
     },
     "execution_count": 30,
     "metadata": {},
     "output_type": "execute_result"
    }
   ],
   "source": [
    "pd.concat([X_train, y_train], axis=1).groupby(\"bookingid\").max().groupby(\"label\").count()"
   ]
  },
  {
   "cell_type": "code",
   "execution_count": 32,
   "metadata": {
    "ExecuteTime": {
     "end_time": "2019-06-14T07:22:56.078720Z",
     "start_time": "2019-06-14T07:22:56.074226Z"
    }
   },
   "outputs": [
    {
     "data": {
      "text/plain": [
       "0.2490459806068189"
      ]
     },
     "execution_count": 32,
     "metadata": {},
     "output_type": "execute_result"
    }
   ],
   "source": [
    "3981 /(12004+3981) "
   ]
  },
  {
   "cell_type": "code",
   "execution_count": 33,
   "metadata": {
    "ExecuteTime": {
     "end_time": "2019-06-14T07:23:13.787598Z",
     "start_time": "2019-06-14T07:23:13.262146Z"
    }
   },
   "outputs": [
    {
     "data": {
      "text/html": [
       "<div>\n",
       "<style scoped>\n",
       "    .dataframe tbody tr th:only-of-type {\n",
       "        vertical-align: middle;\n",
       "    }\n",
       "\n",
       "    .dataframe tbody tr th {\n",
       "        vertical-align: top;\n",
       "    }\n",
       "\n",
       "    .dataframe thead th {\n",
       "        text-align: right;\n",
       "    }\n",
       "</style>\n",
       "<table border=\"1\" class=\"dataframe\">\n",
       "  <thead>\n",
       "    <tr style=\"text-align: right;\">\n",
       "      <th></th>\n",
       "      <th>accuracy</th>\n",
       "      <th>bearing</th>\n",
       "      <th>acceleration_x</th>\n",
       "      <th>acceleration_y</th>\n",
       "      <th>acceleration_z</th>\n",
       "      <th>gyro_x</th>\n",
       "      <th>gyro_y</th>\n",
       "      <th>gyro_z</th>\n",
       "      <th>second</th>\n",
       "      <th>speed</th>\n",
       "    </tr>\n",
       "    <tr>\n",
       "      <th>label</th>\n",
       "      <th></th>\n",
       "      <th></th>\n",
       "      <th></th>\n",
       "      <th></th>\n",
       "      <th></th>\n",
       "      <th></th>\n",
       "      <th></th>\n",
       "      <th></th>\n",
       "      <th></th>\n",
       "      <th></th>\n",
       "    </tr>\n",
       "  </thead>\n",
       "  <tbody>\n",
       "    <tr>\n",
       "      <th>0</th>\n",
       "      <td>2995</td>\n",
       "      <td>2995</td>\n",
       "      <td>2995</td>\n",
       "      <td>2995</td>\n",
       "      <td>2995</td>\n",
       "      <td>2995</td>\n",
       "      <td>2995</td>\n",
       "      <td>2995</td>\n",
       "      <td>2995</td>\n",
       "      <td>2995</td>\n",
       "    </tr>\n",
       "    <tr>\n",
       "      <th>1</th>\n",
       "      <td>1002</td>\n",
       "      <td>1002</td>\n",
       "      <td>1002</td>\n",
       "      <td>1002</td>\n",
       "      <td>1002</td>\n",
       "      <td>1002</td>\n",
       "      <td>1002</td>\n",
       "      <td>1002</td>\n",
       "      <td>1002</td>\n",
       "      <td>1002</td>\n",
       "    </tr>\n",
       "  </tbody>\n",
       "</table>\n",
       "</div>"
      ],
      "text/plain": [
       "       accuracy  bearing  acceleration_x  acceleration_y  acceleration_z  \\\n",
       "label                                                                      \n",
       "0          2995     2995            2995            2995            2995   \n",
       "1          1002     1002            1002            1002            1002   \n",
       "\n",
       "       gyro_x  gyro_y  gyro_z  second  speed  \n",
       "label                                         \n",
       "0        2995    2995    2995    2995   2995  \n",
       "1        1002    1002    1002    1002   1002  "
      ]
     },
     "execution_count": 33,
     "metadata": {},
     "output_type": "execute_result"
    }
   ],
   "source": [
    "pd.concat([X_test, y_test], axis=1).groupby(\"bookingid\").max().groupby(\"label\").count()"
   ]
  },
  {
   "cell_type": "code",
   "execution_count": 35,
   "metadata": {
    "ExecuteTime": {
     "end_time": "2019-06-14T07:23:35.752655Z",
     "start_time": "2019-06-14T07:23:35.748155Z"
    }
   },
   "outputs": [
    {
     "data": {
      "text/plain": [
       "0.250688016012009"
      ]
     },
     "execution_count": 35,
     "metadata": {},
     "output_type": "execute_result"
    }
   ],
   "source": [
    "1002 / (1002 + 2995)"
   ]
  },
  {
   "cell_type": "code",
   "execution_count": 37,
   "metadata": {
    "ExecuteTime": {
     "end_time": "2019-06-14T07:34:02.637410Z",
     "start_time": "2019-06-14T07:33:58.259596Z"
    }
   },
   "outputs": [],
   "source": [
    "with open('../../grab-ai-safety-data/X_train.pickle', 'wb') as f:\n",
    "    pickle.dump(X_train, f)\n",
    "with open('../../grab-ai-safety-data/y_train.pickle', 'wb') as f:\n",
    "    pickle.dump(y_train, f)\n",
    "with open('../../grab-ai-safety-data/X_test.pickle', 'wb') as f:\n",
    "    pickle.dump(X_test, f)\n",
    "with open('../../grab-ai-safety-data/y_test.pickle', 'wb') as f:\n",
    "    pickle.dump(y_test, f)"
   ]
  }
 ],
 "metadata": {
  "kernelspec": {
   "display_name": "Python 3",
   "language": "python",
   "name": "python3"
  },
  "language_info": {
   "codemirror_mode": {
    "name": "ipython",
    "version": 3
   },
   "file_extension": ".py",
   "mimetype": "text/x-python",
   "name": "python",
   "nbconvert_exporter": "python",
   "pygments_lexer": "ipython3",
   "version": "3.6.5"
  },
  "varInspector": {
   "cols": {
    "lenName": 16,
    "lenType": 16,
    "lenVar": 40
   },
   "kernels_config": {
    "python": {
     "delete_cmd_postfix": "",
     "delete_cmd_prefix": "del ",
     "library": "var_list.py",
     "varRefreshCmd": "print(var_dic_list())"
    },
    "r": {
     "delete_cmd_postfix": ") ",
     "delete_cmd_prefix": "rm(",
     "library": "var_list.r",
     "varRefreshCmd": "cat(var_dic_list()) "
    }
   },
   "types_to_exclude": [
    "module",
    "function",
    "builtin_function_or_method",
    "instance",
    "_Feature"
   ],
   "window_display": false
  }
 },
 "nbformat": 4,
 "nbformat_minor": 2
}
